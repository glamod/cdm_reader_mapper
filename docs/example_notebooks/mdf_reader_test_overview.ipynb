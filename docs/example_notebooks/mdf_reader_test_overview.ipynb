{
 "cells": [
  {
   "cell_type": "markdown",
   "metadata": {},
   "source": [
    "## Test and overview of the `mdf_reader` module"
   ]
  },
  {
   "cell_type": "code",
   "execution_count": 1,
   "metadata": {},
   "outputs": [
    {
     "name": "stderr",
     "output_type": "stream",
     "text": [
      "2024-10-02 13:31:55,716 - root - INFO - init basic configure of logging success\n",
      "venv/lib/python3.12/site-packages/tqdm/auto.py:21: TqdmWarning: IProgress not found. Please update jupyter and ipywidgets. See https://ipywidgets.readthedocs.io/en/stable/user_install.html\n",
      "  from .autonotebook import tqdm as notebook_tqdm\n"
     ]
    }
   ],
   "source": [
    "from __future__ import annotations\n",
    "\n",
    "import os\n",
    "import sys\n",
    "\n",
    "import pandas as pd\n",
    "\n",
    "from cdm_reader_mapper import mdf_reader\n",
    "from cdm_reader_mapper.data import test_data"
   ]
  },
  {
   "cell_type": "markdown",
   "metadata": {},
   "source": [
    "The `mdf_reader` is a module from `cdm_reader_mapper` python3, and is a tool designed to read data files compliant with a user specified [data\n",
    "model](https://cds.climate.copernicus.eu/toolbox/doc/how-to/15_how_to_understand_the_common_data_model/15_how_to_understand_the_common_data_model.html).\n",
    "\n",
    "It was developed with the initial idea to read the [IMMA](https://icoads.noaa.gov/e-doc/imma/R3.0-imma1.pdf) data format, but it was further enhanced to account for other meteorological data formats.\n",
    "\n",
    "Lets see an example for a typical file from [ICOADSv3.0.](https://icoads.noaa.gov/r3.html). We pick an specific monthly output for a Source/Deck. In this case data from the Marine Meterological Journals data set SID/DCK: **125-704 for Oct 1878.**\n",
    "\n",
    "The `.imma` file looks like this:"
   ]
  },
  {
   "cell_type": "code",
   "execution_count": 2,
   "metadata": {},
   "outputs": [
    {
     "name": "stderr",
     "output_type": "stream",
     "text": [
      "2024-10-02 13:31:58,700 - root - INFO - Attempting to fetch remote file: icoads/r300/d704/input/icoads_r300_d704_1878-10-01_subset.imma.md5\n"
     ]
    },
    {
     "data": {
      "text/html": [
       "<div>\n",
       "<style scoped>\n",
       "    .dataframe tbody tr th:only-of-type {\n",
       "        vertical-align: middle;\n",
       "    }\n",
       "\n",
       "    .dataframe tbody tr th {\n",
       "        vertical-align: top;\n",
       "    }\n",
       "\n",
       "    .dataframe thead th {\n",
       "        text-align: right;\n",
       "    }\n",
       "</style>\n",
       "<table border=\"1\" class=\"dataframe\">\n",
       "  <thead>\n",
       "    <tr style=\"text-align: right;\">\n",
       "      <th></th>\n",
       "      <th>18781020 600 4228 29159 130623  10Panay      12325123       9961                         4                   165 17128704125 5 0  1                1FF111F11AAA1AAAA1AAA     9815020N163002199 0 100200180003Panay                     78011118737S.P.Bray,Jr    013231190214        Bulkhead of cabin        1- .1022200200180014Boston              Rio de Janeiro      300200180014001518781020               4220N 6630W 10 E      400200180014001518781020102 85 EXS             WSW           0629601 58             BOC  CU05R</th>\n",
       "    </tr>\n",
       "  </thead>\n",
       "  <tbody>\n",
       "    <tr>\n",
       "      <th>0</th>\n",
       "      <td>18781020 800 4231 29197 130623  10Panay      1...</td>\n",
       "    </tr>\n",
       "    <tr>\n",
       "      <th>1</th>\n",
       "      <td>187810201000 4233 29236 130623  10Panay      1...</td>\n",
       "    </tr>\n",
       "    <tr>\n",
       "      <th>2</th>\n",
       "      <td>187810201200 4235 29271 130623  10Panay      1...</td>\n",
       "    </tr>\n",
       "    <tr>\n",
       "      <th>3</th>\n",
       "      <td>187810201400 4237 29310 130623  10Panay      1...</td>\n",
       "    </tr>\n",
       "  </tbody>\n",
       "</table>\n",
       "</div>"
      ],
      "text/plain": [
       "  18781020 600 4228 29159 130623  10Panay      12325123       9961                         4                   165 17128704125 5 0  1                1FF111F11AAA1AAAA1AAA     9815020N163002199 0 100200180003Panay                     78011118737S.P.Bray,Jr    013231190214        Bulkhead of cabin        1- .1022200200180014Boston              Rio de Janeiro      300200180014001518781020               4220N 6630W 10 E      400200180014001518781020102 85 EXS             WSW           0629601 58             BOC  CU05R\n",
       "0  18781020 800 4231 29197 130623  10Panay      1...                                                                                                                                                                                                                                                                                                                                                                                                                                                                                   \n",
       "1  187810201000 4233 29236 130623  10Panay      1...                                                                                                                                                                                                                                                                                                                                                                                                                                                                                   \n",
       "2  187810201200 4235 29271 130623  10Panay      1...                                                                                                                                                                                                                                                                                                                                                                                                                                                                                   \n",
       "3  187810201400 4237 29310 130623  10Panay      1...                                                                                                                                                                                                                                                                                                                                                                                                                                                                                   "
      ]
     },
     "execution_count": 2,
     "metadata": {},
     "output_type": "execute_result"
    }
   ],
   "source": [
    "data_path = test_data.test_icoads_r300_d704[\"source\"]\n",
    "\n",
    "data_ori = pd.read_table(data_path)\n",
    "data_ori.head()"
   ]
  },
  {
   "cell_type": "markdown",
   "metadata": {},
   "source": [
    "Very messy to just read into python!\n",
    "\n",
    "This is why we need the `mdf_reader` tool, to helps us put those imma files in a [pandas.DataFrame](https://pandas.pydata.org/pandas-docs/stable/reference/api/pandas.DataFrame.html) format. For that we need need a **schema**.\n",
    "\n",
    "A **schema** file gathers a collection of descriptors that enable the `mdf_reader` tool to access the content\n",
    "of a `data model/ schema` and extract the sections of the raw data file that contains meaningful information. These **schema files** are the `bones` of the data model, basically `.json` files outlining the structure of the incoming raw data.\n",
    "\n",
    "The `mdf_reader` takes this information and translate the characteristics of the data to a python pandas dataframe.\n",
    "\n",
    "The tool has several **schema** templates build in."
   ]
  },
  {
   "cell_type": "code",
   "execution_count": 3,
   "metadata": {},
   "outputs": [
    {
     "data": {
      "text/plain": [
       "['craid', 'gcc', 'icoads', 'pub47']"
      ]
     },
     "execution_count": 3,
     "metadata": {},
     "output_type": "execute_result"
    }
   ],
   "source": [
    "mdf_reader.properties.supported_data_models"
   ]
  },
  {
   "cell_type": "markdown",
   "metadata": {},
   "source": [
    "**Schemas** can be designed to be deck specific like the example below"
   ]
  },
  {
   "cell_type": "code",
   "execution_count": 4,
   "metadata": {},
   "outputs": [
    {
     "name": "stderr",
     "output_type": "stream",
     "text": [
      "2024-10-02 13:31:58,957 - root - INFO - READING DATA MODEL SCHEMA FILE...\n",
      "2024-10-02 13:31:58,972 - root - INFO - EXTRACTING DATA FROM MODEL: icoads_r300_d704\n",
      "2024-10-02 13:31:58,972 - root - INFO - Getting data string from source...\n",
      "2024-10-02 13:31:59,195 - root - WARNING - Data numeric elements with missing upper or lower threshold: ('c1', 'BSI'),('c1', 'AQZ'),('c1', 'AQA'),('c1', 'UQZ'),('c1', 'UQA'),('c1', 'VQZ'),('c1', 'VQA'),('c1', 'PQZ'),('c1', 'PQA'),('c1', 'DQZ'),('c1', 'DQA'),('c5', 'OS'),('c5', 'OP'),('c5', 'FM'),('c5', 'IMMV'),('c5', 'IX'),('c5', 'W2'),('c5', 'WMI'),('c5', 'SD2'),('c5', 'SP2'),('c5', 'IS'),('c5', 'RS'),('c5', 'IC1'),('c5', 'IC2'),('c5', 'IC3'),('c5', 'IC4'),('c5', 'IC5'),('c5', 'IR'),('c5', 'RRR'),('c5', 'TR'),('c5', 'NU'),('c5', 'QCI'),('c5', 'QI1'),('c5', 'QI2'),('c5', 'QI3'),('c5', 'QI4'),('c5', 'QI5'),('c5', 'QI6'),('c5', 'QI7'),('c5', 'QI8'),('c5', 'QI9'),('c5', 'QI10'),('c5', 'QI11'),('c5', 'QI12'),('c5', 'QI13'),('c5', 'QI14'),('c5', 'QI15'),('c5', 'QI16'),('c5', 'QI17'),('c5', 'QI18'),('c5', 'QI19'),('c5', 'QI20'),('c5', 'QI21'),('c5', 'QI22'),('c5', 'QI23'),('c5', 'QI24'),('c5', 'QI25'),('c5', 'QI26'),('c5', 'QI27'),('c5', 'QI28'),('c5', 'QI29'),('c5', 'RHI'),('c5', 'AWSI'),('c6', 'FBSRC'),('c6', 'MST'),('c7', 'OPM'),('c7', 'LOT'),('c9', 'CCe'),('c9', 'WWe'),('c9', 'Ne'),('c9', 'NHe'),('c9', 'He'),('c9', 'CLe'),('c9', 'CMe'),('c9', 'CHe'),('c9', 'SBI'),('c95', 'DPRO'),('c95', 'DPRP'),('c95', 'UFR'),('c95', 'ASIR'),('c96', 'ASII'),('c97', 'ASIE'),('c99_journal', 'vessel_length'),('c99_journal', 'vessel_beam'),('c99_journal', 'hold_depth'),('c99_journal', 'tonnage'),('c99_journal', 'baro_height'),('c99_daily', 'year'),('c99_daily', 'month'),('c99_daily', 'day'),('c99_daily', 'distance'),('c99_daily', 'lat_deg_an'),('c99_daily', 'lat_min_an'),('c99_daily', 'lon_deg_an'),('c99_daily', 'lon_min_an'),('c99_daily', 'lat_deg_on'),('c99_daily', 'lat_min_on'),('c99_daily', 'lon_deg_of'),('c99_daily', 'lon_min_of'),('c99_daily', 'current_speed'),('c99_data4', 'year'),('c99_data4', 'month'),('c99_data4', 'day'),('c99_data4', 'hour'),('c99_data4', 'ship_speed'),('c99_data4', 'compass_correction'),('c99_data4', 'attached_thermometer'),('c99_data4', 'air_temperature'),('c99_data4', 'wet_bulb_temperature'),('c99_data4', 'sea_temperature'),('c99_data4', 'sky_clear'),('c99_data5', 'year'),('c99_data5', 'month'),('c99_data5', 'day'),('c99_data5', 'hour'),('c99_data5', 'ship_speed'),('c99_data5', 'attached_thermometer'),('c99_data5', 'air_temperature'),('c99_data5', 'wet_bulb_temperature'),('c99_data5', 'sea_temperature'),('c99_data5', 'sky_clear'),('c99_data5', 'compass_correction')\n",
      "2024-10-02 13:31:59,195 - root - WARNING - Corresponding upper and/or lower bounds set to +/-inf for validation\n",
      "2024-10-02 13:31:59,506 - root - INFO - CREATING OUTPUT DATA ATTRIBUTES FROM DATA MODEL\n"
     ]
    }
   ],
   "source": [
    "schema = \"icoads_r300_d704\"\n",
    "\n",
    "data = mdf_reader.read(data_path, imodel=schema)"
   ]
  },
  {
   "cell_type": "markdown",
   "metadata": {},
   "source": [
    "A new **schema** can be build for a particular deck and source as shown in this notebook. The `imma1_d704` schema was build upon the `imma1` schema/data model but extra sections have been added to the `.json` files to include supplemental data from ICOADS documentation. This is a snapshot of the data inside the `imma1_d704.json`.\n",
    "\n",
    "```\n",
    "\"c99_journal\": {\n",
    "            \"header\": {\"sentinal\": \"1\", \"field_layout\":\"fixed_width\",\"length\": 117},\n",
    "            \"elements\": {\n",
    "              \"sentinal\":{\n",
    "                  \"description\": \"Journal header record identifier\",\n",
    "                  \"field_length\": 1,\n",
    "                  \"column_type\": \"str\"\n",
    "              },\n",
    "              \"reel_no\":{\n",
    "                  \"description\": \"Microfilm reel number. See if we want the zero padding or not...\",\n",
    "                  \"field_length\": 3,\n",
    "                  \"column_type\": \"str\",\n",
    "                  \"LMR6\": true\n",
    "              }\n",
    "            ...\n",
    "```"
   ]
  },
  {
   "cell_type": "markdown",
   "metadata": {},
   "source": [
    "Now metadata information can be extracted as a component of the padas dataframe."
   ]
  },
  {
   "cell_type": "code",
   "execution_count": 5,
   "metadata": {},
   "outputs": [
    {
     "data": {
      "text/html": [
       "<div>\n",
       "<style scoped>\n",
       "    .dataframe tbody tr th:only-of-type {\n",
       "        vertical-align: middle;\n",
       "    }\n",
       "\n",
       "    .dataframe tbody tr th {\n",
       "        vertical-align: top;\n",
       "    }\n",
       "\n",
       "    .dataframe thead th {\n",
       "        text-align: right;\n",
       "    }\n",
       "</style>\n",
       "<table border=\"1\" class=\"dataframe\">\n",
       "  <thead>\n",
       "    <tr style=\"text-align: right;\">\n",
       "      <th></th>\n",
       "      <th>sentinal</th>\n",
       "      <th>reel_no</th>\n",
       "      <th>journal_no</th>\n",
       "      <th>frame_no</th>\n",
       "      <th>ship_name</th>\n",
       "      <th>journal_ed</th>\n",
       "      <th>rig</th>\n",
       "      <th>ship_material</th>\n",
       "      <th>vessel_type</th>\n",
       "      <th>vessel_length</th>\n",
       "      <th>...</th>\n",
       "      <th>hold_depth</th>\n",
       "      <th>tonnage</th>\n",
       "      <th>baro_type</th>\n",
       "      <th>baro_height</th>\n",
       "      <th>baro_cdate</th>\n",
       "      <th>baro_loc</th>\n",
       "      <th>baro_units</th>\n",
       "      <th>baro_cor</th>\n",
       "      <th>thermo_mount</th>\n",
       "      <th>SST_I</th>\n",
       "    </tr>\n",
       "  </thead>\n",
       "  <tbody>\n",
       "    <tr>\n",
       "      <th>0</th>\n",
       "      <td>1</td>\n",
       "      <td>002</td>\n",
       "      <td>0018</td>\n",
       "      <td>0003</td>\n",
       "      <td>Panay</td>\n",
       "      <td>78</td>\n",
       "      <td>01</td>\n",
       "      <td>1</td>\n",
       "      <td>1</td>\n",
       "      <td>187</td>\n",
       "      <td>...</td>\n",
       "      <td>23</td>\n",
       "      <td>1190</td>\n",
       "      <td>2</td>\n",
       "      <td>14</td>\n",
       "      <td>NaN</td>\n",
       "      <td>Bulkhead of cabin</td>\n",
       "      <td>1</td>\n",
       "      <td>- .102</td>\n",
       "      <td>2</td>\n",
       "      <td>NaN</td>\n",
       "    </tr>\n",
       "    <tr>\n",
       "      <th>1</th>\n",
       "      <td>1</td>\n",
       "      <td>002</td>\n",
       "      <td>0018</td>\n",
       "      <td>0003</td>\n",
       "      <td>Panay</td>\n",
       "      <td>78</td>\n",
       "      <td>01</td>\n",
       "      <td>1</td>\n",
       "      <td>1</td>\n",
       "      <td>187</td>\n",
       "      <td>...</td>\n",
       "      <td>23</td>\n",
       "      <td>1190</td>\n",
       "      <td>2</td>\n",
       "      <td>14</td>\n",
       "      <td>NaN</td>\n",
       "      <td>Bulkhead of cabin</td>\n",
       "      <td>1</td>\n",
       "      <td>- .102</td>\n",
       "      <td>2</td>\n",
       "      <td>NaN</td>\n",
       "    </tr>\n",
       "    <tr>\n",
       "      <th>2</th>\n",
       "      <td>1</td>\n",
       "      <td>002</td>\n",
       "      <td>0018</td>\n",
       "      <td>0003</td>\n",
       "      <td>Panay</td>\n",
       "      <td>78</td>\n",
       "      <td>01</td>\n",
       "      <td>1</td>\n",
       "      <td>1</td>\n",
       "      <td>187</td>\n",
       "      <td>...</td>\n",
       "      <td>23</td>\n",
       "      <td>1190</td>\n",
       "      <td>2</td>\n",
       "      <td>14</td>\n",
       "      <td>NaN</td>\n",
       "      <td>Bulkhead of cabin</td>\n",
       "      <td>1</td>\n",
       "      <td>- .102</td>\n",
       "      <td>2</td>\n",
       "      <td>NaN</td>\n",
       "    </tr>\n",
       "    <tr>\n",
       "      <th>3</th>\n",
       "      <td>1</td>\n",
       "      <td>002</td>\n",
       "      <td>0018</td>\n",
       "      <td>0003</td>\n",
       "      <td>Panay</td>\n",
       "      <td>78</td>\n",
       "      <td>01</td>\n",
       "      <td>1</td>\n",
       "      <td>1</td>\n",
       "      <td>187</td>\n",
       "      <td>...</td>\n",
       "      <td>23</td>\n",
       "      <td>1190</td>\n",
       "      <td>2</td>\n",
       "      <td>14</td>\n",
       "      <td>NaN</td>\n",
       "      <td>Bulkhead of cabin</td>\n",
       "      <td>1</td>\n",
       "      <td>- .102</td>\n",
       "      <td>2</td>\n",
       "      <td>NaN</td>\n",
       "    </tr>\n",
       "    <tr>\n",
       "      <th>4</th>\n",
       "      <td>1</td>\n",
       "      <td>002</td>\n",
       "      <td>0018</td>\n",
       "      <td>0003</td>\n",
       "      <td>Panay</td>\n",
       "      <td>78</td>\n",
       "      <td>01</td>\n",
       "      <td>1</td>\n",
       "      <td>1</td>\n",
       "      <td>187</td>\n",
       "      <td>...</td>\n",
       "      <td>23</td>\n",
       "      <td>1190</td>\n",
       "      <td>2</td>\n",
       "      <td>14</td>\n",
       "      <td>NaN</td>\n",
       "      <td>Bulkhead of cabin</td>\n",
       "      <td>1</td>\n",
       "      <td>- .102</td>\n",
       "      <td>2</td>\n",
       "      <td>NaN</td>\n",
       "    </tr>\n",
       "  </tbody>\n",
       "</table>\n",
       "<p>5 rows × 24 columns</p>\n",
       "</div>"
      ],
      "text/plain": [
       "  sentinal reel_no journal_no frame_no ship_name journal_ed rig ship_material  \\\n",
       "0        1     002       0018     0003     Panay         78  01             1   \n",
       "1        1     002       0018     0003     Panay         78  01             1   \n",
       "2        1     002       0018     0003     Panay         78  01             1   \n",
       "3        1     002       0018     0003     Panay         78  01             1   \n",
       "4        1     002       0018     0003     Panay         78  01             1   \n",
       "\n",
       "  vessel_type  vessel_length  ...  hold_depth tonnage baro_type baro_height  \\\n",
       "0           1            187  ...          23    1190         2          14   \n",
       "1           1            187  ...          23    1190         2          14   \n",
       "2           1            187  ...          23    1190         2          14   \n",
       "3           1            187  ...          23    1190         2          14   \n",
       "4           1            187  ...          23    1190         2          14   \n",
       "\n",
       "   baro_cdate           baro_loc baro_units  baro_cor thermo_mount SST_I  \n",
       "0         NaN  Bulkhead of cabin          1    - .102            2   NaN  \n",
       "1         NaN  Bulkhead of cabin          1    - .102            2   NaN  \n",
       "2         NaN  Bulkhead of cabin          1    - .102            2   NaN  \n",
       "3         NaN  Bulkhead of cabin          1    - .102            2   NaN  \n",
       "4         NaN  Bulkhead of cabin          1    - .102            2   NaN  \n",
       "\n",
       "[5 rows x 24 columns]"
      ]
     },
     "execution_count": 5,
     "metadata": {},
     "output_type": "execute_result"
    }
   ],
   "source": [
    "data.data.c99_journal"
   ]
  },
  {
   "cell_type": "markdown",
   "metadata": {},
   "source": [
    "To learn how to construct a schema or data model for a particular deck/source, visit this other tutorial: [CLIWOC_datamodel.ipynb](https://git.noc.ac.uk/brecinosrivas/mdf_reader/-/blob/master/docs/notebooks/CLIWOC_datamodel.ipynb)"
   ]
  }
 ],
 "metadata": {
  "kernelspec": {
   "display_name": "cdm_fork",
   "language": "python",
   "name": "cdm_fork"
  },
  "language_info": {
   "codemirror_mode": {
    "name": "ipython",
    "version": 3
   },
   "file_extension": ".py",
   "mimetype": "text/x-python",
   "name": "python",
   "nbconvert_exporter": "python",
   "pygments_lexer": "ipython3",
   "version": "3.12.7"
  }
 },
 "nbformat": 4,
 "nbformat_minor": 4
}
