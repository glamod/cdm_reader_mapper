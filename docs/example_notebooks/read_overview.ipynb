{
 "cells": [
  {
   "cell_type": "markdown",
   "metadata": {},
   "source": [
    "## How to read meteorogical data with `read_mdf` function"
   ]
  },
  {
   "cell_type": "code",
   "execution_count": 1,
   "metadata": {},
   "outputs": [
    {
     "name": "stderr",
     "output_type": "stream",
     "text": [
      "2025-01-31 09:29:23,553 - root - INFO - init basic configure of logging success\n",
      "/Users/josidd/git/github/cdm_fork/.venv/lib/python3.12/site-packages/tqdm/auto.py:21: TqdmWarning: IProgress not found. Please update jupyter and ipywidgets. See https://ipywidgets.readthedocs.io/en/stable/user_install.html\n",
      "  from .autonotebook import tqdm as notebook_tqdm\n"
     ]
    }
   ],
   "source": [
    "from __future__ import annotations\n",
    "\n",
    "import os\n",
    "import sys\n",
    "\n",
    "import pandas as pd\n",
    "import polars as pl\n",
    "\n",
    "from cdm_reader_mapper import properties, read_mdf, test_data"
   ]
  },
  {
   "cell_type": "markdown",
   "metadata": {},
   "source": [
    "The `cdm_reader_mapper.read_mdf` function and is a tool designed to read data files compliant with a user specified [data\n",
    "model](https://cds.climate.copernicus.eu/toolbox/doc/how-to/15_how_to_understand_the_common_data_model/15_how_to_understand_the_common_data_model.html).\n",
    "\n",
    "It was developed with the initial idea to read the [IMMA](https://icoads.noaa.gov/e-doc/imma/R3.0-imma1.pdf) data format, but it was further enhanced to account for other meteorological data formats.\n",
    "\n",
    "Lets see an example for a typical file from [ICOADSv3.0.](https://icoads.noaa.gov/r3.html). We pick an specific monthly output for a Source/Deck. In this case data from the Marine Meterological Journals data set SID/DCK: **125-704 for Oct 1878.**\n",
    "\n",
    "The `.imma` file looks like this:"
   ]
  },
  {
   "cell_type": "code",
   "execution_count": 2,
   "metadata": {},
   "outputs": [
    {
     "name": "stderr",
     "output_type": "stream",
     "text": [
      "2025-01-31 09:29:27,576 - root - INFO - Attempting to fetch remote file: icoads/r300/d704/input/icoads_r300_d704_1878-10-01_subset.imma.md5\n"
     ]
    },
    {
     "data": {
      "text/html": [
       "<div>\n",
       "<style scoped>\n",
       "    .dataframe tbody tr th:only-of-type {\n",
       "        vertical-align: middle;\n",
       "    }\n",
       "\n",
       "    .dataframe tbody tr th {\n",
       "        vertical-align: top;\n",
       "    }\n",
       "\n",
       "    .dataframe thead th {\n",
       "        text-align: right;\n",
       "    }\n",
       "</style>\n",
       "<table border=\"1\" class=\"dataframe\">\n",
       "  <thead>\n",
       "    <tr style=\"text-align: right;\">\n",
       "      <th></th>\n",
       "      <th>18781020 600 4228 29159 130623  10Panay      12325123       9961                         4                   165 17128704125 5 0  1                1FF111F11AAA1AAAA1AAA     9815020N163002199 0 100200180003Panay                     78011118737S.P.Bray,Jr    013231190214        Bulkhead of cabin        1- .1022200200180014Boston              Rio de Janeiro      300200180014001518781020               4220N 6630W 10 E      400200180014001518781020102 85 EXS             WSW           0629601 58             BOC  CU05R</th>\n",
       "    </tr>\n",
       "  </thead>\n",
       "  <tbody>\n",
       "    <tr>\n",
       "      <th>0</th>\n",
       "      <td>18781020 800 4231 29197 130623  10Panay      1...</td>\n",
       "    </tr>\n",
       "    <tr>\n",
       "      <th>1</th>\n",
       "      <td>187810201000 4233 29236 130623  10Panay      1...</td>\n",
       "    </tr>\n",
       "    <tr>\n",
       "      <th>2</th>\n",
       "      <td>187810201200 4235 29271 130623  10Panay      1...</td>\n",
       "    </tr>\n",
       "    <tr>\n",
       "      <th>3</th>\n",
       "      <td>187810201400 4237 29310 130623  10Panay      1...</td>\n",
       "    </tr>\n",
       "  </tbody>\n",
       "</table>\n",
       "</div>"
      ],
      "text/plain": [
       "  18781020 600 4228 29159 130623  10Panay      12325123       9961                         4                   165 17128704125 5 0  1                1FF111F11AAA1AAAA1AAA     9815020N163002199 0 100200180003Panay                     78011118737S.P.Bray,Jr    013231190214        Bulkhead of cabin        1- .1022200200180014Boston              Rio de Janeiro      300200180014001518781020               4220N 6630W 10 E      400200180014001518781020102 85 EXS             WSW           0629601 58             BOC  CU05R\n",
       "0  18781020 800 4231 29197 130623  10Panay      1...                                                                                                                                                                                                                                                                                                                                                                                                                                                                                   \n",
       "1  187810201000 4233 29236 130623  10Panay      1...                                                                                                                                                                                                                                                                                                                                                                                                                                                                                   \n",
       "2  187810201200 4235 29271 130623  10Panay      1...                                                                                                                                                                                                                                                                                                                                                                                                                                                                                   \n",
       "3  187810201400 4237 29310 130623  10Panay      1...                                                                                                                                                                                                                                                                                                                                                                                                                                                                                   "
      ]
     },
     "execution_count": 2,
     "metadata": {},
     "output_type": "execute_result"
    }
   ],
   "source": [
    "data_path = test_data.test_icoads_r300_d704[\"source\"]\n",
    "\n",
    "data_ori = pd.read_table(data_path)\n",
    "data_ori.head()"
   ]
  },
  {
   "cell_type": "markdown",
   "metadata": {},
   "source": [
    "Very messy to just read into python!\n",
    "\n",
    "This is why we need the `mdf_reader` tool, to helps us put those imma files in a [pandas.DataFrame](https://pandas.pydata.org/pandas-docs/stable/reference/api/pandas.DataFrame.html) format. For that we need need a **schema**.\n",
    "\n",
    "A **schema** file gathers a collection of descriptors that enable the `mdf_reader` tool to access the content\n",
    "of a `data model/ schema` and extract the sections of the raw data file that contains meaningful information. These **schema files** are the `bones` of the data model, basically `.json` files outlining the structure of the incoming raw data.\n",
    "\n",
    "The `mdf_reader` takes this information and translate the characteristics of the data to a python polars dataframe.\n",
    "\n",
    "The tool has several **schema** templates build in."
   ]
  },
  {
   "cell_type": "code",
   "execution_count": 3,
   "metadata": {},
   "outputs": [
    {
     "data": {
      "text/plain": [
       "['craid', 'gcc', 'icoads', 'pub47']"
      ]
     },
     "execution_count": 3,
     "metadata": {},
     "output_type": "execute_result"
    }
   ],
   "source": [
    "properties.supported_data_models"
   ]
  },
  {
   "cell_type": "markdown",
   "metadata": {},
   "source": [
    "**Schemas** can be designed to be deck specific like the example below"
   ]
  },
  {
   "cell_type": "code",
   "execution_count": 4,
   "metadata": {},
   "outputs": [
    {
     "name": "stderr",
     "output_type": "stream",
     "text": [
      "2025-01-31 09:29:27,710 - root - INFO - READING DATA MODEL SCHEMA FILE...\n",
      "2025-01-31 09:29:27,718 - root - INFO - EXTRACTING DATA FROM MODEL: icoads_r300_d704\n",
      "2025-01-31 09:29:27,718 - root - INFO - Getting data string from source...\n",
      "2025-01-31 09:29:27,789 - root - INFO - Extracting and reading sections\n",
      "2025-01-31 09:29:27,875 - root - INFO - Create output DataBundle object\n"
     ]
    }
   ],
   "source": [
    "schema = \"icoads_r300_d704\"\n",
    "\n",
    "data = read_mdf(data_path, imodel=schema, validate=False)"
   ]
  },
  {
   "cell_type": "markdown",
   "metadata": {},
   "source": [
    "A new **schema** can be build for a particular deck and source as shown in this notebook. The `imma1_d704` schema was build upon the `imma1` schema/data model but extra sections have been added to the `.json` files to include supplemental data from ICOADS documentation. This is a snapshot of the data inside the `imma1_d704.json`.\n",
    "\n",
    "```\n",
    "\"c99_journal\": {\n",
    "            \"header\": {\"sentinal\": \"1\", \"field_layout\":\"fixed_width\",\"length\": 117},\n",
    "            \"elements\": {\n",
    "              \"sentinal\":{\n",
    "                  \"description\": \"Journal header record identifier\",\n",
    "                  \"field_length\": 1,\n",
    "                  \"column_type\": \"str\"\n",
    "              },\n",
    "              \"reel_no\":{\n",
    "                  \"description\": \"Microfilm reel number. See if we want the zero padding or not...\",\n",
    "                  \"field_length\": 3,\n",
    "                  \"column_type\": \"str\",\n",
    "                  \"LMR6\": true\n",
    "              }\n",
    "            ...\n",
    "```"
   ]
  },
  {
   "cell_type": "markdown",
   "metadata": {},
   "source": [
    "The full output `polars.DataFrame` can be accessed:"
   ]
  },
  {
   "cell_type": "code",
   "execution_count": 5,
   "metadata": {},
   "outputs": [
    {
     "data": {
      "text/html": [
       "<div><style>\n",
       ".dataframe > thead > tr,\n",
       ".dataframe > tbody > tr {\n",
       "  text-align: right;\n",
       "  white-space: pre-wrap;\n",
       "}\n",
       "</style>\n",
       "<small>shape: (5, 418)</small><table border=\"1\" class=\"dataframe\"><thead><tr><th>index</th><th>_core_missing</th><th>core:YR</th><th>core:MO</th><th>core:DY</th><th>core:HR</th><th>core:LAT</th><th>core:LON</th><th>core:IM</th><th>core:ATTC</th><th>core:TI</th><th>core:LI</th><th>core:DS</th><th>core:VS</th><th>core:NID</th><th>core:II</th><th>core:ID</th><th>core:C1</th><th>core:DI</th><th>core:D</th><th>core:WI</th><th>core:W</th><th>core:VI</th><th>core:VV</th><th>core:WW</th><th>core:W1</th><th>core:SLP</th><th>core:A</th><th>core:PPP</th><th>core:IT</th><th>core:AT</th><th>core:WBTI</th><th>core:WBT</th><th>core:DPTI</th><th>core:DPT</th><th>core:SI</th><th>core:SST</th><th>&hellip;</th><th>c99_data4:sea_temperature</th><th>c99_data4:present_weather</th><th>c99_data4:clouds</th><th>c99_data4:sky_clear</th><th>c99_data4:sea_state</th><th>_c99_data5_missing</th><th>c99_data5:sentinal</th><th>c99_data5:reel_no</th><th>c99_data5:journal_no</th><th>c99_data5:frame_start</th><th>c99_data5:frame</th><th>c99_data5:year</th><th>c99_data5:month</th><th>c99_data5:day</th><th>c99_data5:time_ind</th><th>c99_data5:hour</th><th>c99_data5:ship_speed</th><th>c99_data5:compass_ind</th><th>c99_data5:ship_course_compass</th><th>c99_data5:blank</th><th>c99_data5:ship_course_true</th><th>c99_data5:wind_dir_mag</th><th>c99_data5:wind_dir_true</th><th>c99_data5:wind_force</th><th>c99_data5:barometer</th><th>c99_data5:temp_ind</th><th>c99_data5:attached_thermometer</th><th>c99_data5:air_temperature</th><th>c99_data5:wet_bulb_temperature</th><th>c99_data5:sea_temperature</th><th>c99_data5:present_weather</th><th>c99_data5:clouds</th><th>c99_data5:sky_clear</th><th>c99_data5:sea_state</th><th>c99_data5:compass_correction_ind</th><th>c99_data5:compass_correction</th><th>c99_data5:compass_correction_dir</th></tr><tr><td>u32</td><td>bool</td><td>i64</td><td>i64</td><td>i64</td><td>f64</td><td>f64</td><td>f64</td><td>str</td><td>i64</td><td>str</td><td>str</td><td>str</td><td>str</td><td>str</td><td>str</td><td>str</td><td>str</td><td>str</td><td>i64</td><td>str</td><td>f64</td><td>str</td><td>str</td><td>str</td><td>str</td><td>f64</td><td>str</td><td>f64</td><td>str</td><td>f64</td><td>str</td><td>f64</td><td>str</td><td>f64</td><td>str</td><td>f64</td><td>&hellip;</td><td>f64</td><td>str</td><td>str</td><td>i64</td><td>str</td><td>bool</td><td>str</td><td>str</td><td>str</td><td>str</td><td>str</td><td>i64</td><td>i64</td><td>i64</td><td>str</td><td>i64</td><td>f64</td><td>str</td><td>str</td><td>str</td><td>str</td><td>str</td><td>str</td><td>str</td><td>str</td><td>str</td><td>f64</td><td>f64</td><td>f64</td><td>f64</td><td>str</td><td>str</td><td>i64</td><td>str</td><td>str</td><td>f64</td><td>str</td></tr></thead><tbody><tr><td>0</td><td>false</td><td>1878</td><td>10</td><td>20</td><td>6.0</td><td>42.28</td><td>291.59</td><td>&quot;1&quot;</td><td>3</td><td>&quot;0&quot;</td><td>&quot;6&quot;</td><td>&quot;2&quot;</td><td>&quot;3&quot;</td><td>null</td><td>&quot;10&quot;</td><td>&quot;Panay&quot;</td><td>null</td><td>&quot;1&quot;</td><td>232</td><td>&quot;5&quot;</td><td>12.3</td><td>null</td><td>null</td><td>null</td><td>null</td><td>996.1</td><td>null</td><td>null</td><td>null</td><td>null</td><td>null</td><td>null</td><td>null</td><td>null</td><td>null</td><td>null</td><td>&hellip;</td><td>null</td><td>&quot;BOC&quot;</td><td>&quot;CU&quot;</td><td>5</td><td>&quot;R&quot;</td><td>true</td><td>null</td><td>null</td><td>null</td><td>null</td><td>null</td><td>null</td><td>null</td><td>null</td><td>null</td><td>null</td><td>null</td><td>null</td><td>null</td><td>null</td><td>null</td><td>null</td><td>null</td><td>null</td><td>null</td><td>null</td><td>null</td><td>null</td><td>null</td><td>null</td><td>null</td><td>null</td><td>null</td><td>null</td><td>null</td><td>null</td><td>null</td></tr><tr><td>1</td><td>false</td><td>1878</td><td>10</td><td>20</td><td>8.0</td><td>42.31</td><td>291.97</td><td>&quot;1&quot;</td><td>3</td><td>&quot;0&quot;</td><td>&quot;6&quot;</td><td>&quot;2&quot;</td><td>&quot;3&quot;</td><td>null</td><td>&quot;10&quot;</td><td>&quot;Panay&quot;</td><td>null</td><td>&quot;1&quot;</td><td>232</td><td>&quot;5&quot;</td><td>12.3</td><td>null</td><td>null</td><td>null</td><td>null</td><td>996.3</td><td>null</td><td>null</td><td>null</td><td>null</td><td>null</td><td>null</td><td>null</td><td>null</td><td>null</td><td>null</td><td>&hellip;</td><td>null</td><td>&quot;BOC&quot;</td><td>&quot;SC&quot;</td><td>3</td><td>&quot;R&quot;</td><td>true</td><td>null</td><td>null</td><td>null</td><td>null</td><td>null</td><td>null</td><td>null</td><td>null</td><td>null</td><td>null</td><td>null</td><td>null</td><td>null</td><td>null</td><td>null</td><td>null</td><td>null</td><td>null</td><td>null</td><td>null</td><td>null</td><td>null</td><td>null</td><td>null</td><td>null</td><td>null</td><td>null</td><td>null</td><td>null</td><td>null</td><td>null</td></tr><tr><td>2</td><td>false</td><td>1878</td><td>10</td><td>20</td><td>10.0</td><td>42.33</td><td>292.36</td><td>&quot;1&quot;</td><td>3</td><td>&quot;0&quot;</td><td>&quot;6&quot;</td><td>&quot;2&quot;</td><td>&quot;3&quot;</td><td>null</td><td>&quot;10&quot;</td><td>&quot;Panay&quot;</td><td>null</td><td>&quot;1&quot;</td><td>254</td><td>&quot;5&quot;</td><td>12.3</td><td>null</td><td>null</td><td>null</td><td>null</td><td>996.9</td><td>null</td><td>null</td><td>&quot;7&quot;</td><td>8.9</td><td>null</td><td>null</td><td>null</td><td>null</td><td>&quot;1&quot;</td><td>11.1</td><td>&hellip;</td><td>5.2</td><td>&quot;OCG&quot;</td><td>&quot;SC&quot;</td><td>0</td><td>&quot;R&quot;</td><td>true</td><td>null</td><td>null</td><td>null</td><td>null</td><td>null</td><td>null</td><td>null</td><td>null</td><td>null</td><td>null</td><td>null</td><td>null</td><td>null</td><td>null</td><td>null</td><td>null</td><td>null</td><td>null</td><td>null</td><td>null</td><td>null</td><td>null</td><td>null</td><td>null</td><td>null</td><td>null</td><td>null</td><td>null</td><td>null</td><td>null</td><td>null</td></tr><tr><td>3</td><td>false</td><td>1878</td><td>10</td><td>20</td><td>12.0</td><td>42.35</td><td>292.71</td><td>&quot;1&quot;</td><td>3</td><td>&quot;0&quot;</td><td>&quot;6&quot;</td><td>&quot;2&quot;</td><td>&quot;3&quot;</td><td>null</td><td>&quot;10&quot;</td><td>&quot;Panay&quot;</td><td>null</td><td>&quot;1&quot;</td><td>254</td><td>&quot;5&quot;</td><td>12.3</td><td>null</td><td>null</td><td>null</td><td>null</td><td>997.6</td><td>null</td><td>null</td><td>&quot;7&quot;</td><td>8.9</td><td>null</td><td>null</td><td>null</td><td>null</td><td>&quot;1&quot;</td><td>11.1</td><td>&hellip;</td><td>5.2</td><td>&quot;CG&quot;</td><td>&quot;SC&quot;</td><td>0</td><td>&quot;R&quot;</td><td>true</td><td>null</td><td>null</td><td>null</td><td>null</td><td>null</td><td>null</td><td>null</td><td>null</td><td>null</td><td>null</td><td>null</td><td>null</td><td>null</td><td>null</td><td>null</td><td>null</td><td>null</td><td>null</td><td>null</td><td>null</td><td>null</td><td>null</td><td>null</td><td>null</td><td>null</td><td>null</td><td>null</td><td>null</td><td>null</td><td>null</td><td>null</td></tr><tr><td>4</td><td>false</td><td>1878</td><td>10</td><td>20</td><td>14.0</td><td>42.37</td><td>293.1</td><td>&quot;1&quot;</td><td>3</td><td>&quot;0&quot;</td><td>&quot;6&quot;</td><td>&quot;2&quot;</td><td>&quot;3&quot;</td><td>null</td><td>&quot;10&quot;</td><td>&quot;Panay&quot;</td><td>null</td><td>&quot;1&quot;</td><td>254</td><td>&quot;5&quot;</td><td>12.3</td><td>null</td><td>null</td><td>null</td><td>null</td><td>999.2</td><td>null</td><td>null</td><td>&quot;7&quot;</td><td>8.9</td><td>null</td><td>null</td><td>null</td><td>null</td><td>&quot;1&quot;</td><td>10.0</td><td>&hellip;</td><td>5.0</td><td>&quot;BC&quot;</td><td>&quot;SC&quot;</td><td>2</td><td>&quot;L&quot;</td><td>true</td><td>null</td><td>null</td><td>null</td><td>null</td><td>null</td><td>null</td><td>null</td><td>null</td><td>null</td><td>null</td><td>null</td><td>null</td><td>null</td><td>null</td><td>null</td><td>null</td><td>null</td><td>null</td><td>null</td><td>null</td><td>null</td><td>null</td><td>null</td><td>null</td><td>null</td><td>null</td><td>null</td><td>null</td><td>null</td><td>null</td><td>null</td></tr></tbody></table></div>"
      ],
      "text/plain": [
       "shape: (5, 418)\n",
       "┌───────┬─────────────┬─────────┬─────────┬───┬─────────────┬────────────┬────────────┬────────────┐\n",
       "│ index ┆ _core_missi ┆ core:YR ┆ core:MO ┆ … ┆ c99_data5:s ┆ c99_data5: ┆ c99_data5: ┆ c99_data5: │\n",
       "│ ---   ┆ ng          ┆ ---     ┆ ---     ┆   ┆ ea_state    ┆ compass_co ┆ compass_co ┆ compass_co │\n",
       "│ u32   ┆ ---         ┆ i64     ┆ i64     ┆   ┆ ---         ┆ rrection_i ┆ rrection   ┆ rrection_d │\n",
       "│       ┆ bool        ┆         ┆         ┆   ┆ str         ┆ …          ┆ ---        ┆ …          │\n",
       "│       ┆             ┆         ┆         ┆   ┆             ┆ ---        ┆ f64        ┆ ---        │\n",
       "│       ┆             ┆         ┆         ┆   ┆             ┆ str        ┆            ┆ str        │\n",
       "╞═══════╪═════════════╪═════════╪═════════╪═══╪═════════════╪════════════╪════════════╪════════════╡\n",
       "│ 0     ┆ false       ┆ 1878    ┆ 10      ┆ … ┆ null        ┆ null       ┆ null       ┆ null       │\n",
       "│ 1     ┆ false       ┆ 1878    ┆ 10      ┆ … ┆ null        ┆ null       ┆ null       ┆ null       │\n",
       "│ 2     ┆ false       ┆ 1878    ┆ 10      ┆ … ┆ null        ┆ null       ┆ null       ┆ null       │\n",
       "│ 3     ┆ false       ┆ 1878    ┆ 10      ┆ … ┆ null        ┆ null       ┆ null       ┆ null       │\n",
       "│ 4     ┆ false       ┆ 1878    ┆ 10      ┆ … ┆ null        ┆ null       ┆ null       ┆ null       │\n",
       "└───────┴─────────────┴─────────┴─────────┴───┴─────────────┴────────────┴────────────┴────────────┘"
      ]
     },
     "execution_count": 5,
     "metadata": {},
     "output_type": "execute_result"
    }
   ],
   "source": [
    "data.data"
   ]
  },
  {
   "cell_type": "markdown",
   "metadata": {},
   "source": [
    "Now metadata information can be extracted as a component of the polars dataframe."
   ]
  },
  {
   "cell_type": "code",
   "execution_count": 6,
   "metadata": {},
   "outputs": [
    {
     "data": {
      "text/html": [
       "<div><style>\n",
       ".dataframe > thead > tr,\n",
       ".dataframe > tbody > tr {\n",
       "  text-align: right;\n",
       "  white-space: pre-wrap;\n",
       "}\n",
       "</style>\n",
       "<small>shape: (5, 24)</small><table border=\"1\" class=\"dataframe\"><thead><tr><th>c99_journal:sentinal</th><th>c99_journal:reel_no</th><th>c99_journal:journal_no</th><th>c99_journal:frame_no</th><th>c99_journal:ship_name</th><th>c99_journal:journal_ed</th><th>c99_journal:rig</th><th>c99_journal:ship_material</th><th>c99_journal:vessel_type</th><th>c99_journal:vessel_length</th><th>c99_journal:vessel_beam</th><th>c99_journal:commander</th><th>c99_journal:country</th><th>c99_journal:screw_paddle</th><th>c99_journal:hold_depth</th><th>c99_journal:tonnage</th><th>c99_journal:baro_type</th><th>c99_journal:baro_height</th><th>c99_journal:baro_cdate</th><th>c99_journal:baro_loc</th><th>c99_journal:baro_units</th><th>c99_journal:baro_cor</th><th>c99_journal:thermo_mount</th><th>c99_journal:SST_I</th></tr><tr><td>str</td><td>str</td><td>str</td><td>str</td><td>str</td><td>str</td><td>str</td><td>str</td><td>str</td><td>i64</td><td>i64</td><td>str</td><td>str</td><td>str</td><td>i64</td><td>i64</td><td>str</td><td>i64</td><td>str</td><td>str</td><td>str</td><td>str</td><td>str</td><td>str</td></tr></thead><tbody><tr><td>&quot;1&quot;</td><td>&quot;002&quot;</td><td>&quot;0018&quot;</td><td>&quot;0003&quot;</td><td>&quot;Panay&quot;</td><td>&quot;78&quot;</td><td>&quot;01&quot;</td><td>&quot;1&quot;</td><td>&quot;1&quot;</td><td>187</td><td>37</td><td>&quot;S.P.Bray,Jr&quot;</td><td>&quot;01&quot;</td><td>&quot;3&quot;</td><td>23</td><td>1190</td><td>&quot;2&quot;</td><td>14</td><td>null</td><td>&quot;Bulkhead of cabin&quot;</td><td>&quot;1&quot;</td><td>&quot;- .102&quot;</td><td>&quot;2&quot;</td><td>null</td></tr><tr><td>&quot;1&quot;</td><td>&quot;002&quot;</td><td>&quot;0018&quot;</td><td>&quot;0003&quot;</td><td>&quot;Panay&quot;</td><td>&quot;78&quot;</td><td>&quot;01&quot;</td><td>&quot;1&quot;</td><td>&quot;1&quot;</td><td>187</td><td>37</td><td>&quot;S.P.Bray,Jr&quot;</td><td>&quot;01&quot;</td><td>&quot;3&quot;</td><td>23</td><td>1190</td><td>&quot;2&quot;</td><td>14</td><td>null</td><td>&quot;Bulkhead of cabin&quot;</td><td>&quot;1&quot;</td><td>&quot;- .102&quot;</td><td>&quot;2&quot;</td><td>null</td></tr><tr><td>&quot;1&quot;</td><td>&quot;002&quot;</td><td>&quot;0018&quot;</td><td>&quot;0003&quot;</td><td>&quot;Panay&quot;</td><td>&quot;78&quot;</td><td>&quot;01&quot;</td><td>&quot;1&quot;</td><td>&quot;1&quot;</td><td>187</td><td>37</td><td>&quot;S.P.Bray,Jr&quot;</td><td>&quot;01&quot;</td><td>&quot;3&quot;</td><td>23</td><td>1190</td><td>&quot;2&quot;</td><td>14</td><td>null</td><td>&quot;Bulkhead of cabin&quot;</td><td>&quot;1&quot;</td><td>&quot;- .102&quot;</td><td>&quot;2&quot;</td><td>null</td></tr><tr><td>&quot;1&quot;</td><td>&quot;002&quot;</td><td>&quot;0018&quot;</td><td>&quot;0003&quot;</td><td>&quot;Panay&quot;</td><td>&quot;78&quot;</td><td>&quot;01&quot;</td><td>&quot;1&quot;</td><td>&quot;1&quot;</td><td>187</td><td>37</td><td>&quot;S.P.Bray,Jr&quot;</td><td>&quot;01&quot;</td><td>&quot;3&quot;</td><td>23</td><td>1190</td><td>&quot;2&quot;</td><td>14</td><td>null</td><td>&quot;Bulkhead of cabin&quot;</td><td>&quot;1&quot;</td><td>&quot;- .102&quot;</td><td>&quot;2&quot;</td><td>null</td></tr><tr><td>&quot;1&quot;</td><td>&quot;002&quot;</td><td>&quot;0018&quot;</td><td>&quot;0003&quot;</td><td>&quot;Panay&quot;</td><td>&quot;78&quot;</td><td>&quot;01&quot;</td><td>&quot;1&quot;</td><td>&quot;1&quot;</td><td>187</td><td>37</td><td>&quot;S.P.Bray,Jr&quot;</td><td>&quot;01&quot;</td><td>&quot;3&quot;</td><td>23</td><td>1190</td><td>&quot;2&quot;</td><td>14</td><td>null</td><td>&quot;Bulkhead of cabin&quot;</td><td>&quot;1&quot;</td><td>&quot;- .102&quot;</td><td>&quot;2&quot;</td><td>null</td></tr></tbody></table></div>"
      ],
      "text/plain": [
       "shape: (5, 24)\n",
       "┌───────────┬───────────┬───────────┬───────────┬───┬───────────┬───────────┬───────────┬──────────┐\n",
       "│ c99_journ ┆ c99_journ ┆ c99_journ ┆ c99_journ ┆ … ┆ c99_journ ┆ c99_journ ┆ c99_journ ┆ c99_jour │\n",
       "│ al:sentin ┆ al:reel_n ┆ al:journa ┆ al:frame_ ┆   ┆ al:baro_u ┆ al:baro_c ┆ al:thermo ┆ nal:SST_ │\n",
       "│ al        ┆ o         ┆ l_no      ┆ no        ┆   ┆ nits      ┆ or        ┆ _mount    ┆ I        │\n",
       "│ ---       ┆ ---       ┆ ---       ┆ ---       ┆   ┆ ---       ┆ ---       ┆ ---       ┆ ---      │\n",
       "│ str       ┆ str       ┆ str       ┆ str       ┆   ┆ str       ┆ str       ┆ str       ┆ str      │\n",
       "╞═══════════╪═══════════╪═══════════╪═══════════╪═══╪═══════════╪═══════════╪═══════════╪══════════╡\n",
       "│ 1         ┆ 002       ┆ 0018      ┆ 0003      ┆ … ┆ 1         ┆ - .102    ┆ 2         ┆ null     │\n",
       "│ 1         ┆ 002       ┆ 0018      ┆ 0003      ┆ … ┆ 1         ┆ - .102    ┆ 2         ┆ null     │\n",
       "│ 1         ┆ 002       ┆ 0018      ┆ 0003      ┆ … ┆ 1         ┆ - .102    ┆ 2         ┆ null     │\n",
       "│ 1         ┆ 002       ┆ 0018      ┆ 0003      ┆ … ┆ 1         ┆ - .102    ┆ 2         ┆ null     │\n",
       "│ 1         ┆ 002       ┆ 0018      ┆ 0003      ┆ … ┆ 1         ┆ - .102    ┆ 2         ┆ null     │\n",
       "└───────────┴───────────┴───────────┴───────────┴───┴───────────┴───────────┴───────────┴──────────┘"
      ]
     },
     "execution_count": 6,
     "metadata": {},
     "output_type": "execute_result"
    }
   ],
   "source": [
    "data.data.select(pl.col(\"^c99_journal:.*$\"))"
   ]
  },
  {
   "cell_type": "markdown",
   "metadata": {},
   "source": [
    "To learn how to construct a schema or data model for a particular deck/source, visit this other [tutorial notebook](https://github.com/glamod/cdm_reader_mapper/blob/main/docs/example_notebooks/CLIWOC_datamodel.ipynb)"
   ]
  }
 ],
 "metadata": {
  "kernelspec": {
   "display_name": "cdm",
   "language": "python",
   "name": "cdm"
  },
  "language_info": {
   "codemirror_mode": {
    "name": "ipython",
    "version": 3
   },
   "file_extension": ".py",
   "mimetype": "text/x-python",
   "name": "python",
   "nbconvert_exporter": "python",
   "pygments_lexer": "ipython3",
   "version": "3.12.8"
  }
 },
 "nbformat": 4,
 "nbformat_minor": 4
}
