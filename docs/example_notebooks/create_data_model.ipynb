{
 "cells": [
  {
   "cell_type": "markdown",
   "metadata": {},
   "source": [
    "## How to create a data model"
   ]
  },
  {
   "cell_type": "markdown",
   "metadata": {},
   "source": [
    "### Creating a data model"
   ]
  },
  {
   "cell_type": "markdown",
   "metadata": {},
   "source": [
    "In this notebook we will create and apply a new **data model/schema** to a raw `.imma` file, using the ``mdf_reader``. We will add supplemental metadata to the basic `imma1` data model and display supplemental data as a pandas dataframe.\n",
    "\n",
    "Lets first import all the tools that we will need."
   ]
  },
  {
   "cell_type": "code",
   "execution_count": 1,
   "metadata": {},
   "outputs": [
    {
     "name": "stderr",
     "output_type": "stream",
     "text": [
      "2024-10-02 13:31:02,677 - root - INFO - init basic configure of logging success\n",
      "venv/lib/python3.12/site-packages/tqdm/auto.py:21: TqdmWarning: IProgress not found. Please update jupyter and ipywidgets. See https://ipywidgets.readthedocs.io/en/stable/user_install.html\n",
      "  from .autonotebook import tqdm as notebook_tqdm\n"
     ]
    }
   ],
   "source": [
    "from __future__ import annotations\n",
    "\n",
    "import json\n",
    "import os\n",
    "import shutil\n",
    "import sys\n",
    "\n",
    "import pandas as pd\n",
    "\n",
    "pd.options.display.max_columns = None\n",
    "\n",
    "from collections import OrderedDict\n",
    "from tempfile import TemporaryDirectory\n",
    "\n",
    "try:\n",
    "    from importlib.resources import files as get_files\n",
    "except ImportError:\n",
    "    from importlib_resources import files as get_files\n",
    "\n",
    "from cdm_reader_mapper import mdf_reader\n",
    "from cdm_reader_mapper.data import test_data"
   ]
  },
  {
   "cell_type": "markdown",
   "metadata": {},
   "source": [
    "The `mdf_reader` tool comes with data model templates of `.json` files, that we can use to build our models. For more information see the following [manual](https://git.noc.ac.uk/iregon/mdf_reader/-/blob/master/docs/User_manual.docx)."
   ]
  },
  {
   "cell_type": "code",
   "execution_count": 2,
   "metadata": {},
   "outputs": [
    {
     "data": {
      "text/plain": [
       "['craid', 'gcc', 'icoads', 'pub47']"
      ]
     },
     "execution_count": 2,
     "metadata": {},
     "output_type": "execute_result"
    }
   ],
   "source": [
    "mdf_reader.properties.supported_data_models"
   ]
  },
  {
   "cell_type": "markdown",
   "metadata": {},
   "source": [
    "According to the manual, ICOADS data stored with the [IMMA format](https://icoads.noaa.gov/e-doc/imma/R3.0-imma1.pdf) represents a complex data model, since the data includes blocks of sections which are exclusive to certain DCK's (e.g. data coming from the NOAA National Climatic Data Center (NCDC) TD-11 formats). Most of the ICOADS data however will need a **schema** based on the `icoads.json` format.\n",
    "\n",
    "Lets try to build our own **schema** based on this template for a new dck. In this notebook we will organise the data and metadata from the **US Maury collection** that corresponds to `source/dck 069-701`.\n",
    "\n",
    "1. First lets read a raw `.imma` file from dck 701 as an example, for a subset of the data collected in April/1845.\n",
    "\n",
    "One should note that a full schema for this deck already exists: `\"icoads_r300_d701\"`."
   ]
  },
  {
   "cell_type": "code",
   "execution_count": 3,
   "metadata": {},
   "outputs": [
    {
     "name": "stderr",
     "output_type": "stream",
     "text": [
      "2024-10-02 13:31:05,923 - root - INFO - Attempting to fetch remote file: icoads/r300/d701/input/icoads_r300_d701_1845-04-01_subset.imma.md5\n",
      "2024-10-02 13:31:06,254 - root - INFO - READING DATA MODEL SCHEMA FILE...\n",
      "2024-10-02 13:31:06,261 - root - INFO - EXTRACTING DATA FROM MODEL: icoads\n",
      "2024-10-02 13:31:06,262 - root - INFO - Getting data string from source...\n",
      "2024-10-02 13:31:06,412 - root - WARNING - Data numeric elements with missing upper or lower threshold: ('c1', 'BSI'),('c1', 'AQZ'),('c1', 'AQA'),('c1', 'UQZ'),('c1', 'UQA'),('c1', 'VQZ'),('c1', 'VQA'),('c1', 'PQZ'),('c1', 'PQA'),('c1', 'DQZ'),('c1', 'DQA'),('c5', 'OS'),('c5', 'OP'),('c5', 'FM'),('c5', 'IMMV'),('c5', 'IX'),('c5', 'W2'),('c5', 'WMI'),('c5', 'SD2'),('c5', 'SP2'),('c5', 'IS'),('c5', 'RS'),('c5', 'IC1'),('c5', 'IC2'),('c5', 'IC3'),('c5', 'IC4'),('c5', 'IC5'),('c5', 'IR'),('c5', 'RRR'),('c5', 'TR'),('c5', 'NU'),('c5', 'QCI'),('c5', 'QI1'),('c5', 'QI2'),('c5', 'QI3'),('c5', 'QI4'),('c5', 'QI5'),('c5', 'QI6'),('c5', 'QI7'),('c5', 'QI8'),('c5', 'QI9'),('c5', 'QI10'),('c5', 'QI11'),('c5', 'QI12'),('c5', 'QI13'),('c5', 'QI14'),('c5', 'QI15'),('c5', 'QI16'),('c5', 'QI17'),('c5', 'QI18'),('c5', 'QI19'),('c5', 'QI20'),('c5', 'QI21'),('c5', 'QI22'),('c5', 'QI23'),('c5', 'QI24'),('c5', 'QI25'),('c5', 'QI26'),('c5', 'QI27'),('c5', 'QI28'),('c5', 'QI29'),('c5', 'RHI'),('c5', 'AWSI'),('c6', 'FBSRC'),('c6', 'MST'),('c7', 'OPM'),('c7', 'LOT'),('c9', 'CCe'),('c9', 'WWe'),('c9', 'Ne'),('c9', 'NHe'),('c9', 'He'),('c9', 'CLe'),('c9', 'CMe'),('c9', 'CHe'),('c9', 'SBI'),('c95', 'DPRO'),('c95', 'DPRP'),('c95', 'UFR'),('c95', 'ASIR'),('c96', 'ASII'),('c97', 'ASIE')\n",
      "2024-10-02 13:31:06,413 - root - WARNING - Corresponding upper and/or lower bounds set to +/-inf for validation\n",
      "2024-10-02 13:31:06,614 - root - INFO - CREATING OUTPUT DATA ATTRIBUTES FROM DATA MODEL\n"
     ]
    }
   ],
   "source": [
    "# Load the test data\n",
    "data = test_data.test_icoads_r300_d701_type2\n",
    "\n",
    "data_raw = mdf_reader.read(data.get(\"source\"), imodel=\"icoads\")"
   ]
  },
  {
   "cell_type": "markdown",
   "metadata": {},
   "source": [
    "We now look at the supplementary data column for this data, i.e.: the `\"c99\"` column."
   ]
  },
  {
   "cell_type": "code",
   "execution_count": 4,
   "metadata": {},
   "outputs": [
    {
     "data": {
      "text/plain": [
       "0    99 0 300850118450401  5404N 2354W             ...\n",
       "1    99 0 810348118450401  4836N 2330W             ...\n",
       "2    99 0 370731118450401  4643N15147W             ...\n",
       "3    99 0 260597118450401  4454N 3015W             ...\n",
       "4    99 0 250661118450401  4356N 2220W             ...\n",
       "Name: c99, dtype: object"
      ]
     },
     "execution_count": 4,
     "metadata": {},
     "output_type": "execute_result"
    }
   ],
   "source": [
    "data_raw.data[\"c99\"]"
   ]
  },
  {
   "cell_type": "markdown",
   "metadata": {},
   "source": [
    "The `c99` column is a bit messy. Here, we will need to separate the Supplemental Metadata ingested in ICOADS as an entire string and sort each row out according to the source & dck documentation.\n",
    "\n",
    "2. We then need to make a new data model or **schema** which can then be used by the `mdf_reader` module. For this we create a schema with the name `imma1_d701`. For the purposes of this notebook we will create this schema in a temporary directory.\n",
    "3. In this directory we will need to add a `.json` file with the same name. This `imma1_d701.json` file will contain all the data model information with instructions on how to subdivide the metadata added to `c99`. The name of the file is `imma1_d701.json` because the data model for this deck is based on the `imma1` template shown above, but the `c99` will be further subdivided into other columns/sections. We will start with a copy of the original `\"imma1\"` schema and add elements to the `c99` section."
   ]
  },
  {
   "cell_type": "code",
   "execution_count": 5,
   "metadata": {},
   "outputs": [],
   "source": [
    "# Get a copy of the \"imma1\" schema\n",
    "schema: OrderedDict = mdf_reader.schemas.read_schema(imodel=\"icoads\")\n",
    "del schema[\"name\"]"
   ]
  },
  {
   "cell_type": "code",
   "execution_count": 6,
   "metadata": {},
   "outputs": [
    {
     "name": "stdout",
     "output_type": "stream",
     "text": [
      "/var/folders/vf/pskk3w4j38l8kk7bc9xm07j00000gp/T/tmp3g4eeqbu/imma1_d701\n"
     ]
    }
   ],
   "source": [
    "# Create the directory where we store the schema\n",
    "my_model_name = \"imma1_d701\"\n",
    "tmp_dir = TemporaryDirectory()\n",
    "my_model_path = os.path.join(tmp_dir.name, my_model_name)\n",
    "os.mkdir(my_model_path)\n",
    "print(my_model_path)"
   ]
  },
  {
   "cell_type": "markdown",
   "metadata": {},
   "source": [
    "We should now look at the documentation for this deck, to see if we can parse the `c99` section.\n",
    "\n",
    "From the US Maury collection [ICOADS documentation](https://icoads.noaa.gov/e-doc/other/transpec/maury/maury_transpec), we find out that the `c99` for this deck is composed of the following sections:\n",
    "\n",
    "- Data\n",
    "- Header information\n",
    "- Quality control information (qc)\n",
    "\n",
    "In this example we will only look to make a few new elements for demonstration purposes. A full schema file already exists for deck 701, we are not looking to duplicate that in full here."
   ]
  },
  {
   "cell_type": "markdown",
   "metadata": {},
   "source": [
    "```\n",
    "Data stored in the supplemental attachment consisted of the entire data record\n",
    "(173 characters); followed by a selection of fields from, or derived from, the\n",
    "associated header record (through character 241); and selected fields from the\n",
    "qc file (total 250 characters):\n",
    "  # Pos.     Total #  Field  Record\n",
    "    range    of pos.   name    type  Description of field (of derived field)\n",
    "--- -------  -------  -----  ------  ----------------------------------------\n",
    "  1 1-7         7     cvoyd    data  voyage number\n",
    "... ...               ...       ...  ...\n",
    " 47 172-173     2     cmvq     data  magnetic variation QC indicator\n",
    " NA 174-175     2     cts2   header  (fr ship type, ctship, according to [5])\n",
    "  4 176-177     2     cft    header  form type\n",
    "  5 178-193    16     comm   header  commander (first 16 positions only) [6]\n",
    "  6 194-217    24     cfr    header  from city\n",
    "  7 218-241    24     cto    header  to city\n",
    "  2 242-246     5     qc2    qc      reel sequence number\n",
    "  5 247-248     2     qc5    qc      day  (local time) (99 indicates missing)\n",
    "  6 249-250     2     qc6*   qc      hour (local time) (99 indicates missing)\n",
    "--- -------  -------  -----  ------  ----------------------------------------\n",
    "* Whenever qc6 was 24, zero was inadvertently written out to the supplemental\n",
    "attachment.  This resulted from an error in the conversion program, but can\n",
    "be fixed by interpretation of hour zero as hour 24 of qc5 + 1 (as noted in [2],\n",
    "qc6 originally ranged 1-24, with 24 signifying hour 0 of the next day.  As\n",
    "intended, qc5 was included in the supplementary attachment in original form.\n",
    "```"
   ]
  },
  {
   "cell_type": "markdown",
   "metadata": {},
   "source": [
    "The `c99_sentinal` section identifies where in the data, we will have a new section. In this case we will have a new section corresponding to Supplemental Metadata.\n",
    "\n",
    "In our example this supplemental metadata will come from the documentation of the US Maury collection stored in the [ICOADS website](https://icoads.noaa.gov/e-doc/other/transpec/maury/maury_transpec).\n",
    "\n",
    "4. We will need to add the metadata information from the website inside that `c99_sentinal` section and create as many sections as the data requires.\n",
    "\n",
    "> sentinal: section identifier\n",
    "> applies to: format.fixed_width\n",
    "> is mandatory: it is not mandatory if the section is unique, unique in a parsing_order block, or\n",
    "> part of a sequential parsing_order block.\n",
    "> type: string\n",
    "> comments: the element bearing the sentinal needs to be, additionally, declared in the\n",
    "> elements block"
   ]
  },
  {
   "cell_type": "code",
   "execution_count": 7,
   "metadata": {},
   "outputs": [],
   "source": [
    "c99 = data_raw.data[\"c99\"]\n",
    "line = c99.iloc[2]"
   ]
  },
  {
   "cell_type": "code",
   "execution_count": 8,
   "metadata": {},
   "outputs": [
    {
     "data": {
      "text/plain": [
       "'99 0 '"
      ]
     },
     "execution_count": 8,
     "metadata": {},
     "output_type": "execute_result"
    }
   ],
   "source": [
    "# sentinal = 5\n",
    "part_1 = line[0:5]\n",
    "part_1"
   ]
  },
  {
   "cell_type": "code",
   "execution_count": 9,
   "metadata": {},
   "outputs": [
    {
     "data": {
      "text/plain": [
       "'3707311'"
      ]
     },
     "execution_count": 9,
     "metadata": {},
     "output_type": "execute_result"
    }
   ],
   "source": [
    "# cvoyd voyage number = 7\n",
    "part_2 = line[5 : 5 + 7]\n",
    "part_2"
   ]
  },
  {
   "cell_type": "code",
   "execution_count": 10,
   "metadata": {},
   "outputs": [
    {
     "data": {
      "text/plain": [
       "'18450401  '"
      ]
     },
     "execution_count": 10,
     "metadata": {},
     "output_type": "execute_result"
    }
   ],
   "source": [
    "# date = 10\n",
    "part_3 = line[12 : 12 + 10]\n",
    "part_3"
   ]
  },
  {
   "cell_type": "markdown",
   "metadata": {},
   "source": [
    "### Create the custom model\n",
    "\n",
    "We now make the adjustments to the schema to parse the sentinal, voyage number, and date fields. The rest can be skipped for this example.\n",
    "\n",
    "Here we add to the dictionary containing the `\"imma1\"` schema loaded earlier, we then save that to a `json` file in our model directory.\n",
    "\n",
    "Note that we need to use an `OrderedDict` here, since the ordering of the fields is important, a standard python `dict` is un-ordered and may shuffle the elements."
   ]
  },
  {
   "cell_type": "code",
   "execution_count": 11,
   "metadata": {},
   "outputs": [],
   "source": [
    "schema[\"sections\"][\"c99\"][\"header\"][\"sentinal\"] = \"99 0 \"\n",
    "schema[\"sections\"][\"c99\"][\"header\"][\"disable_read\"] = False\n",
    "schema[\"sections\"][\"c99\"][\"header\"][\"field_layout\"] = \"fixed_width\"\n",
    "schema[\"sections\"][\"c99\"][\"header\"][\"length\"] = 250 + 5  # Sentinal length\n",
    "schema[\"sections\"][\"c99\"][\"elements\"] = OrderedDict(\n",
    "    {\n",
    "        \"sentinal\": {\n",
    "            \"description\": \"attachment sentinal\",\n",
    "            \"field_length\": 5,\n",
    "            \"column_type\": \"str\",\n",
    "        },\n",
    "        \"cvoyd\": {\n",
    "            \"description\": \"Voyage Information\",\n",
    "            \"field_length\": 7,\n",
    "            \"column_type\": \"str\",\n",
    "        },\n",
    "        \"year\": {\n",
    "            \"description\": \"Year\",\n",
    "            \"field_length\": 4,\n",
    "            \"column_type\": \"uint16\",\n",
    "        },\n",
    "        \"month\": {\n",
    "            \"description\": \"Month\",\n",
    "            \"field_length\": 2,\n",
    "            \"column_type\": \"uint8\",\n",
    "        },\n",
    "        \"day\": {\n",
    "            \"description\": \"Day\",\n",
    "            \"field_length\": 2,\n",
    "            \"column_type\": \"uint8\",\n",
    "        },\n",
    "        \"rest\": {\n",
    "            \"description\": \"Remaining c99 string\",\n",
    "            \"field_length\": 235,  # 250 - (8 + 7)\n",
    "            \"column_type\": \"str\",\n",
    "        },\n",
    "    }\n",
    ")"
   ]
  },
  {
   "cell_type": "code",
   "execution_count": 12,
   "metadata": {},
   "outputs": [],
   "source": [
    "json_object = json.dumps(schema, indent=2)\n",
    "\n",
    "with open(os.path.join(my_model_path, my_model_name + \".json\"), \"w\") as outfile:\n",
    "    outfile.write(json_object)"
   ]
  },
  {
   "cell_type": "markdown",
   "metadata": {},
   "source": [
    "The final component of a model for the `mdf_reader` module is the `code_tables`. These are the tables that relate `key` columns to their values. For this example we will copy the code tables from the original `icoads` model."
   ]
  },
  {
   "cell_type": "code",
   "execution_count": 13,
   "metadata": {},
   "outputs": [
    {
     "data": {
      "text/plain": [
       "'/var/folders/vf/pskk3w4j38l8kk7bc9xm07j00000gp/T/tmp3g4eeqbu/imma1_d701/code_tables'"
      ]
     },
     "execution_count": 13,
     "metadata": {},
     "output_type": "execute_result"
    }
   ],
   "source": [
    "code_tables_path = get_files(\".\".join([mdf_reader.properties._base, \"codes\", \"icoads\"]))\n",
    "shutil.copytree(code_tables_path, os.path.join(my_model_path, \"code_tables\"))"
   ]
  },
  {
   "cell_type": "markdown",
   "metadata": {},
   "source": [
    "Now we feed this new data model to the `mdf_reader.read` function. To use our custom schema we need to specify the `ext_schema_path` argument, rather than the `imodel` argument used earlier."
   ]
  },
  {
   "cell_type": "code",
   "execution_count": 14,
   "metadata": {},
   "outputs": [
    {
     "name": "stderr",
     "output_type": "stream",
     "text": [
      "2024-10-02 13:31:07,213 - root - INFO - READING DATA MODEL SCHEMA FILE...\n",
      "2024-10-02 13:31:07,224 - root - WARNING - Set column type of (core, YR) from deprecated Int64 to int.\n",
      "2024-10-02 13:31:07,225 - root - WARNING - Set column type of (core, MO) from deprecated Int64 to int.\n",
      "2024-10-02 13:31:07,225 - root - WARNING - Set column type of (core, DY) from deprecated Int64 to int.\n",
      "2024-10-02 13:31:07,226 - root - WARNING - Set column type of (core, ATTC) from deprecated Int64 to int.\n",
      "2024-10-02 13:31:07,226 - root - WARNING - Set column type of (core, D) from deprecated Int64 to int.\n",
      "2024-10-02 13:31:07,227 - root - WARNING - Set column type of (core, N) from deprecated Int64 to int.\n",
      "2024-10-02 13:31:07,228 - root - WARNING - Set column type of (core, NH) from deprecated Int64 to int.\n",
      "2024-10-02 13:31:07,228 - root - WARNING - Set column type of (core, WP) from deprecated Int64 to int.\n",
      "2024-10-02 13:31:07,229 - root - WARNING - Set column type of (core, SP) from deprecated Int64 to int.\n",
      "2024-10-02 13:31:07,230 - root - WARNING - Set column type of (c1, ATTL) from deprecated Int64 to int.\n",
      "2024-10-02 13:31:07,230 - root - WARNING - Set column type of (c1, BSI) from deprecated Int64 to int.\n",
      "2024-10-02 13:31:07,231 - root - WARNING - Set column type of (c1, B10) from deprecated Int64 to int.\n",
      "2024-10-02 13:31:07,231 - root - WARNING - Set column type of (c1, B1) from deprecated Int64 to int.\n",
      "2024-10-02 13:31:07,232 - root - WARNING - Set column type of (c1, SQZ) from deprecated Int64 to int.\n",
      "2024-10-02 13:31:07,232 - root - WARNING - Set column type of (c1, SQA) from deprecated Int64 to int.\n",
      "2024-10-02 13:31:07,233 - root - WARNING - Set column type of (c1, AQZ) from deprecated Int64 to int.\n",
      "2024-10-02 13:31:07,233 - root - WARNING - Set column type of (c1, AQA) from deprecated Int64 to int.\n",
      "2024-10-02 13:31:07,233 - root - WARNING - Set column type of (c1, UQZ) from deprecated Int64 to int.\n",
      "2024-10-02 13:31:07,234 - root - WARNING - Set column type of (c1, UQA) from deprecated Int64 to int.\n",
      "2024-10-02 13:31:07,234 - root - WARNING - Set column type of (c1, VQZ) from deprecated Int64 to int.\n",
      "2024-10-02 13:31:07,235 - root - WARNING - Set column type of (c1, VQA) from deprecated Int64 to int.\n",
      "2024-10-02 13:31:07,235 - root - WARNING - Set column type of (c1, PQZ) from deprecated Int64 to int.\n",
      "2024-10-02 13:31:07,236 - root - WARNING - Set column type of (c1, PQA) from deprecated Int64 to int.\n",
      "2024-10-02 13:31:07,236 - root - WARNING - Set column type of (c1, DQZ) from deprecated Int64 to int.\n",
      "2024-10-02 13:31:07,236 - root - WARNING - Set column type of (c1, DQA) from deprecated Int64 to int.\n",
      "2024-10-02 13:31:07,237 - root - WARNING - Set column type of (c1, QCE) from deprecated Int64 to int.\n",
      "2024-10-02 13:31:07,237 - root - WARNING - Set column type of (c1, QCZ) from deprecated Int64 to int.\n",
      "2024-10-02 13:31:07,238 - root - WARNING - Set column type of (c5, ATTI) from deprecated Int64 to int.\n",
      "2024-10-02 13:31:07,238 - root - WARNING - Set column type of (c5, ATTL) from deprecated Int64 to int.\n",
      "2024-10-02 13:31:07,239 - root - WARNING - Set column type of (c5, OS) from deprecated Int64 to int.\n",
      "2024-10-02 13:31:07,239 - root - WARNING - Set column type of (c5, OP) from deprecated Int64 to int.\n",
      "2024-10-02 13:31:07,239 - root - WARNING - Set column type of (c5, FM) from deprecated Int64 to int.\n",
      "2024-10-02 13:31:07,239 - root - WARNING - Set column type of (c5, IMMV) from deprecated Int64 to int.\n",
      "2024-10-02 13:31:07,240 - root - WARNING - Set column type of (c5, IX) from deprecated Int64 to int.\n",
      "2024-10-02 13:31:07,240 - root - WARNING - Set column type of (c5, W2) from deprecated Int64 to int.\n",
      "2024-10-02 13:31:07,240 - root - WARNING - Set column type of (c5, WMI) from deprecated Int64 to int.\n",
      "2024-10-02 13:31:07,241 - root - WARNING - Set column type of (c5, SD2) from deprecated Int64 to int.\n",
      "2024-10-02 13:31:07,241 - root - WARNING - Set column type of (c5, SP2) from deprecated Int64 to int.\n",
      "2024-10-02 13:31:07,241 - root - WARNING - Set column type of (c5, IS) from deprecated Int64 to int.\n",
      "2024-10-02 13:31:07,241 - root - WARNING - Set column type of (c5, ES) from deprecated Int64 to int.\n",
      "2024-10-02 13:31:07,242 - root - WARNING - Set column type of (c5, RS) from deprecated Int64 to int.\n",
      "2024-10-02 13:31:07,242 - root - WARNING - Set column type of (c5, IC1) from deprecated Int64 to int.\n",
      "2024-10-02 13:31:07,242 - root - WARNING - Set column type of (c5, IC2) from deprecated Int64 to int.\n",
      "2024-10-02 13:31:07,242 - root - WARNING - Set column type of (c5, IC3) from deprecated Int64 to int.\n",
      "2024-10-02 13:31:07,243 - root - WARNING - Set column type of (c5, IC4) from deprecated Int64 to int.\n",
      "2024-10-02 13:31:07,243 - root - WARNING - Set column type of (c5, IC5) from deprecated Int64 to int.\n",
      "2024-10-02 13:31:07,243 - root - WARNING - Set column type of (c5, IR) from deprecated Int64 to int.\n",
      "2024-10-02 13:31:07,244 - root - WARNING - Set column type of (c5, RRR) from deprecated Int64 to int.\n",
      "2024-10-02 13:31:07,244 - root - WARNING - Set column type of (c5, TR) from deprecated Int64 to int.\n",
      "2024-10-02 13:31:07,244 - root - WARNING - Set column type of (c5, NU) from deprecated Int64 to int.\n",
      "2024-10-02 13:31:07,244 - root - WARNING - Set column type of (c5, QCI) from deprecated Int64 to int.\n",
      "2024-10-02 13:31:07,245 - root - WARNING - Set column type of (c5, QI1) from deprecated Int64 to int.\n",
      "2024-10-02 13:31:07,245 - root - WARNING - Set column type of (c5, QI2) from deprecated Int64 to int.\n",
      "2024-10-02 13:31:07,245 - root - WARNING - Set column type of (c5, QI3) from deprecated Int64 to int.\n",
      "2024-10-02 13:31:07,245 - root - WARNING - Set column type of (c5, QI4) from deprecated Int64 to int.\n",
      "2024-10-02 13:31:07,246 - root - WARNING - Set column type of (c5, QI5) from deprecated Int64 to int.\n",
      "2024-10-02 13:31:07,246 - root - WARNING - Set column type of (c5, QI6) from deprecated Int64 to int.\n",
      "2024-10-02 13:31:07,246 - root - WARNING - Set column type of (c5, QI7) from deprecated Int64 to int.\n",
      "2024-10-02 13:31:07,246 - root - WARNING - Set column type of (c5, QI8) from deprecated Int64 to int.\n",
      "2024-10-02 13:31:07,246 - root - WARNING - Set column type of (c5, QI9) from deprecated Int64 to int.\n",
      "2024-10-02 13:31:07,247 - root - WARNING - Set column type of (c5, QI10) from deprecated Int64 to int.\n",
      "2024-10-02 13:31:07,247 - root - WARNING - Set column type of (c5, QI11) from deprecated Int64 to int.\n",
      "2024-10-02 13:31:07,247 - root - WARNING - Set column type of (c5, QI12) from deprecated Int64 to int.\n",
      "2024-10-02 13:31:07,248 - root - WARNING - Set column type of (c5, QI13) from deprecated Int64 to int.\n",
      "2024-10-02 13:31:07,248 - root - WARNING - Set column type of (c5, QI14) from deprecated Int64 to int.\n",
      "2024-10-02 13:31:07,248 - root - WARNING - Set column type of (c5, QI15) from deprecated Int64 to int.\n",
      "2024-10-02 13:31:07,248 - root - WARNING - Set column type of (c5, QI16) from deprecated Int64 to int.\n",
      "2024-10-02 13:31:07,249 - root - WARNING - Set column type of (c5, QI17) from deprecated Int64 to int.\n",
      "2024-10-02 13:31:07,249 - root - WARNING - Set column type of (c5, QI18) from deprecated Int64 to int.\n",
      "2024-10-02 13:31:07,249 - root - WARNING - Set column type of (c5, QI19) from deprecated Int64 to int.\n",
      "2024-10-02 13:31:07,249 - root - WARNING - Set column type of (c5, QI20) from deprecated Int64 to int.\n",
      "2024-10-02 13:31:07,250 - root - WARNING - Set column type of (c5, QI21) from deprecated Int64 to int.\n",
      "2024-10-02 13:31:07,250 - root - WARNING - Set column type of (c5, HDG) from deprecated Int64 to int.\n",
      "2024-10-02 13:31:07,250 - root - WARNING - Set column type of (c5, COG) from deprecated Int64 to int.\n",
      "2024-10-02 13:31:07,250 - root - WARNING - Set column type of (c5, SOG) from deprecated Int64 to int.\n",
      "2024-10-02 13:31:07,251 - root - WARNING - Set column type of (c5, SLL) from deprecated Int64 to int.\n",
      "2024-10-02 13:31:07,251 - root - WARNING - Set column type of (c5, SLHH) from deprecated Int64 to int.\n",
      "2024-10-02 13:31:07,251 - root - WARNING - Set column type of (c5, RWD) from deprecated Int64 to int.\n",
      "2024-10-02 13:31:07,251 - root - WARNING - Set column type of (c5, QI22) from deprecated Int64 to int.\n",
      "2024-10-02 13:31:07,251 - root - WARNING - Set column type of (c5, QI23) from deprecated Int64 to int.\n",
      "2024-10-02 13:31:07,252 - root - WARNING - Set column type of (c5, QI24) from deprecated Int64 to int.\n",
      "2024-10-02 13:31:07,252 - root - WARNING - Set column type of (c5, QI25) from deprecated Int64 to int.\n",
      "2024-10-02 13:31:07,252 - root - WARNING - Set column type of (c5, QI26) from deprecated Int64 to int.\n",
      "2024-10-02 13:31:07,252 - root - WARNING - Set column type of (c5, QI27) from deprecated Int64 to int.\n",
      "2024-10-02 13:31:07,253 - root - WARNING - Set column type of (c5, QI28) from deprecated Int64 to int.\n",
      "2024-10-02 13:31:07,253 - root - WARNING - Set column type of (c5, QI29) from deprecated Int64 to int.\n",
      "2024-10-02 13:31:07,253 - root - WARNING - Set column type of (c5, RHI) from deprecated Int64 to int.\n",
      "2024-10-02 13:31:07,253 - root - WARNING - Set column type of (c5, AWSI) from deprecated Int64 to int.\n",
      "2024-10-02 13:31:07,253 - root - WARNING - Set column type of (c5, IMONO) from deprecated Int64 to int.\n",
      "2024-10-02 13:31:07,254 - root - WARNING - Set column type of (c6, ATTI) from deprecated Int64 to int.\n",
      "2024-10-02 13:31:07,254 - root - WARNING - Set column type of (c6, ATTL) from deprecated Int64 to int.\n",
      "2024-10-02 13:31:07,254 - root - WARNING - Set column type of (c6, FBSRC) from deprecated Int64 to int.\n",
      "2024-10-02 13:31:07,254 - root - WARNING - Set column type of (c6, MST) from deprecated Int64 to int.\n",
      "2024-10-02 13:31:07,255 - root - WARNING - Set column type of (c6, BMSH) from deprecated Int64 to int.\n",
      "2024-10-02 13:31:07,255 - root - WARNING - Set column type of (c6, BY) from deprecated Int64 to int.\n",
      "2024-10-02 13:31:07,255 - root - WARNING - Set column type of (c6, BM) from deprecated Int64 to int.\n",
      "2024-10-02 13:31:07,255 - root - WARNING - Set column type of (c6, BD) from deprecated Int64 to int.\n",
      "2024-10-02 13:31:07,255 - root - WARNING - Set column type of (c6, BH) from deprecated Int64 to int.\n",
      "2024-10-02 13:31:07,255 - root - WARNING - Set column type of (c6, BFL) from deprecated Int64 to int.\n",
      "2024-10-02 13:31:07,256 - root - WARNING - Set column type of (c7, ATTI) from deprecated Int64 to int.\n",
      "2024-10-02 13:31:07,256 - root - WARNING - Set column type of (c7, ATTL) from deprecated Int64 to int.\n",
      "2024-10-02 13:31:07,256 - root - WARNING - Set column type of (c7, OPM) from deprecated Int64 to int.\n",
      "2024-10-02 13:31:07,256 - root - WARNING - Set column type of (c7, LOT) from deprecated Int64 to int.\n",
      "2024-10-02 13:31:07,257 - root - WARNING - Set column type of (c7, LOV) from deprecated Int64 to int.\n",
      "2024-10-02 13:31:07,257 - root - WARNING - Set column type of (c7, DOS) from deprecated Int64 to int.\n",
      "2024-10-02 13:31:07,257 - root - WARNING - Set column type of (c7, HOP) from deprecated Int64 to int.\n",
      "2024-10-02 13:31:07,257 - root - WARNING - Set column type of (c7, HOT) from deprecated Int64 to int.\n",
      "2024-10-02 13:31:07,257 - root - WARNING - Set column type of (c7, HOB) from deprecated Int64 to int.\n",
      "2024-10-02 13:31:07,257 - root - WARNING - Set column type of (c7, HOA) from deprecated Int64 to int.\n",
      "2024-10-02 13:31:07,258 - root - WARNING - Set column type of (c7, SMF) from deprecated Int64 to int.\n",
      "2024-10-02 13:31:07,258 - root - WARNING - Set column type of (c7, SME) from deprecated Int64 to int.\n",
      "2024-10-02 13:31:07,258 - root - WARNING - Set column type of (c7, SMV) from deprecated Int64 to int.\n",
      "2024-10-02 13:31:07,258 - root - WARNING - Set column type of (c8, ATTI) from deprecated Int64 to int.\n",
      "2024-10-02 13:31:07,258 - root - WARNING - Set column type of (c8, ATTL) from deprecated Int64 to int.\n",
      "2024-10-02 13:31:07,259 - root - WARNING - Set column type of (c9, ATTI) from deprecated Int64 to int.\n",
      "2024-10-02 13:31:07,259 - root - WARNING - Set column type of (c9, ATTL) from deprecated Int64 to int.\n",
      "2024-10-02 13:31:07,259 - root - WARNING - Set column type of (c9, CCe) from deprecated Int64 to int.\n",
      "2024-10-02 13:31:07,259 - root - WARNING - Set column type of (c9, WWe) from deprecated Int64 to int.\n",
      "2024-10-02 13:31:07,259 - root - WARNING - Set column type of (c9, Ne) from deprecated Int64 to int.\n",
      "2024-10-02 13:31:07,260 - root - WARNING - Set column type of (c9, NHe) from deprecated Int64 to int.\n",
      "2024-10-02 13:31:07,260 - root - WARNING - Set column type of (c9, He) from deprecated Int64 to int.\n",
      "2024-10-02 13:31:07,260 - root - WARNING - Set column type of (c9, CLe) from deprecated Int64 to int.\n",
      "2024-10-02 13:31:07,260 - root - WARNING - Set column type of (c9, CMe) from deprecated Int64 to int.\n",
      "2024-10-02 13:31:07,260 - root - WARNING - Set column type of (c9, CHe) from deprecated Int64 to int.\n",
      "2024-10-02 13:31:07,261 - root - WARNING - Set column type of (c9, UM) from deprecated Int64 to int.\n",
      "2024-10-02 13:31:07,261 - root - WARNING - Set column type of (c9, UH) from deprecated Int64 to int.\n",
      "2024-10-02 13:31:07,261 - root - WARNING - Set column type of (c9, SBI) from deprecated Int64 to int.\n",
      "2024-10-02 13:31:07,261 - root - WARNING - Set column type of (c95, ATTI) from deprecated Int64 to int.\n",
      "2024-10-02 13:31:07,261 - root - WARNING - Set column type of (c95, ATTL) from deprecated Int64 to int.\n",
      "2024-10-02 13:31:07,261 - root - WARNING - Set column type of (c95, ICNR) from deprecated Int64 to int.\n",
      "2024-10-02 13:31:07,262 - root - WARNING - Set column type of (c95, FNR) from deprecated Int64 to int.\n",
      "2024-10-02 13:31:07,262 - root - WARNING - Set column type of (c95, DPRO) from deprecated Int64 to int.\n",
      "2024-10-02 13:31:07,262 - root - WARNING - Set column type of (c95, DPRP) from deprecated Int64 to int.\n",
      "2024-10-02 13:31:07,262 - root - WARNING - Set column type of (c95, UFR) from deprecated Int64 to int.\n",
      "2024-10-02 13:31:07,263 - root - WARNING - Set column type of (c95, CDR) from deprecated Int64 to int.\n",
      "2024-10-02 13:31:07,263 - root - WARNING - Set column type of (c95, ASIR) from deprecated Int64 to int.\n",
      "2024-10-02 13:31:07,263 - root - WARNING - Set column type of (c96, ATTI) from deprecated Int64 to int.\n",
      "2024-10-02 13:31:07,263 - root - WARNING - Set column type of (c96, ATTL) from deprecated Int64 to int.\n",
      "2024-10-02 13:31:07,264 - root - WARNING - Set column type of (c96, ICNI) from deprecated Int64 to int.\n",
      "2024-10-02 13:31:07,264 - root - WARNING - Set column type of (c96, FNI) from deprecated Int64 to int.\n",
      "2024-10-02 13:31:07,264 - root - WARNING - Set column type of (c96, JVAD) from deprecated Int64 to int.\n",
      "2024-10-02 13:31:07,264 - root - WARNING - Set column type of (c96, IVAU1) from deprecated Int64 to int.\n",
      "2024-10-02 13:31:07,265 - root - WARNING - Set column type of (c96, JVAU1) from deprecated Int64 to int.\n",
      "2024-10-02 13:31:07,265 - root - WARNING - Set column type of (c96, IVAU2) from deprecated Int64 to int.\n",
      "2024-10-02 13:31:07,265 - root - WARNING - Set column type of (c96, JVAU2) from deprecated Int64 to int.\n",
      "2024-10-02 13:31:07,265 - root - WARNING - Set column type of (c96, IVAU3) from deprecated Int64 to int.\n",
      "2024-10-02 13:31:07,266 - root - WARNING - Set column type of (c96, JVAU3) from deprecated Int64 to int.\n",
      "2024-10-02 13:31:07,266 - root - WARNING - Set column type of (c96, VQC) from deprecated Int64 to int.\n",
      "2024-10-02 13:31:07,266 - root - WARNING - Set column type of (c96, CDI) from deprecated Int64 to int.\n",
      "2024-10-02 13:31:07,266 - root - WARNING - Set column type of (c96, ASII) from deprecated Int64 to int.\n",
      "2024-10-02 13:31:07,266 - root - WARNING - Set column type of (c97, ATTI) from deprecated Int64 to int.\n",
      "2024-10-02 13:31:07,267 - root - WARNING - Set column type of (c97, ATTL) from deprecated Int64 to int.\n",
      "2024-10-02 13:31:07,267 - root - WARNING - Set column type of (c97, ICNE) from deprecated Int64 to int.\n",
      "2024-10-02 13:31:07,267 - root - WARNING - Set column type of (c97, FNE) from deprecated Int64 to int.\n",
      "2024-10-02 13:31:07,267 - root - WARNING - Set column type of (c97, CDE) from deprecated Int64 to int.\n",
      "2024-10-02 13:31:07,267 - root - WARNING - Set column type of (c97, ASIE) from deprecated Int64 to int.\n",
      "2024-10-02 13:31:07,268 - root - WARNING - Set column type of (c98, ATTL) from deprecated Int64 to int.\n",
      "2024-10-02 13:31:07,268 - root - WARNING - Set column type of (c98, RN1) from deprecated Int64 to int.\n",
      "2024-10-02 13:31:07,268 - root - WARNING - Set column type of (c98, RN2) from deprecated Int64 to int.\n",
      "2024-10-02 13:31:07,268 - root - WARNING - Set column type of (c98, RN3) from deprecated Int64 to int.\n",
      "2024-10-02 13:31:07,268 - root - WARNING - Set column type of (c99, year) from deprecated uint16 to int.\n",
      "2024-10-02 13:31:07,268 - root - WARNING - Set column type of (c99, month) from deprecated uint8 to int.\n",
      "2024-10-02 13:31:07,269 - root - WARNING - Set column type of (c99, day) from deprecated uint8 to int.\n",
      "2024-10-02 13:31:07,269 - root - INFO - EXTRACTING DATA FROM MODEL: None\n",
      "2024-10-02 13:31:07,269 - root - INFO - Getting data string from source...\n",
      "2024-10-02 13:31:07,394 - root - WARNING - Data numeric elements with missing upper or lower threshold: ('c1', 'BSI'),('c1', 'AQZ'),('c1', 'AQA'),('c1', 'UQZ'),('c1', 'UQA'),('c1', 'VQZ'),('c1', 'VQA'),('c1', 'PQZ'),('c1', 'PQA'),('c1', 'DQZ'),('c1', 'DQA'),('c5', 'OS'),('c5', 'OP'),('c5', 'FM'),('c5', 'IMMV'),('c5', 'IX'),('c5', 'W2'),('c5', 'WMI'),('c5', 'SD2'),('c5', 'SP2'),('c5', 'IS'),('c5', 'RS'),('c5', 'IC1'),('c5', 'IC2'),('c5', 'IC3'),('c5', 'IC4'),('c5', 'IC5'),('c5', 'IR'),('c5', 'RRR'),('c5', 'TR'),('c5', 'NU'),('c5', 'QCI'),('c5', 'QI1'),('c5', 'QI2'),('c5', 'QI3'),('c5', 'QI4'),('c5', 'QI5'),('c5', 'QI6'),('c5', 'QI7'),('c5', 'QI8'),('c5', 'QI9'),('c5', 'QI10'),('c5', 'QI11'),('c5', 'QI12'),('c5', 'QI13'),('c5', 'QI14'),('c5', 'QI15'),('c5', 'QI16'),('c5', 'QI17'),('c5', 'QI18'),('c5', 'QI19'),('c5', 'QI20'),('c5', 'QI21'),('c5', 'QI22'),('c5', 'QI23'),('c5', 'QI24'),('c5', 'QI25'),('c5', 'QI26'),('c5', 'QI27'),('c5', 'QI28'),('c5', 'QI29'),('c5', 'RHI'),('c5', 'AWSI'),('c6', 'FBSRC'),('c6', 'MST'),('c7', 'OPM'),('c7', 'LOT'),('c9', 'CCe'),('c9', 'WWe'),('c9', 'Ne'),('c9', 'NHe'),('c9', 'He'),('c9', 'CLe'),('c9', 'CMe'),('c9', 'CHe'),('c9', 'SBI'),('c95', 'DPRO'),('c95', 'DPRP'),('c95', 'UFR'),('c95', 'ASIR'),('c96', 'ASII'),('c97', 'ASIE'),('c99', 'year'),('c99', 'month'),('c99', 'day')\n",
      "2024-10-02 13:31:07,395 - root - WARNING - Corresponding upper and/or lower bounds set to +/-inf for validation\n",
      "2024-10-02 13:31:07,831 - root - INFO - CREATING OUTPUT DATA ATTRIBUTES FROM DATA MODEL\n"
     ]
    }
   ],
   "source": [
    "data_new = mdf_reader.read(data.get(\"source\"), ext_schema_path=my_model_path)"
   ]
  },
  {
   "cell_type": "markdown",
   "metadata": {},
   "source": [
    "And magically all the messy string is _partially_ separated!"
   ]
  },
  {
   "cell_type": "code",
   "execution_count": 15,
   "metadata": {},
   "outputs": [
    {
     "data": {
      "text/html": [
       "<div>\n",
       "<style scoped>\n",
       "    .dataframe tbody tr th:only-of-type {\n",
       "        vertical-align: middle;\n",
       "    }\n",
       "\n",
       "    .dataframe tbody tr th {\n",
       "        vertical-align: top;\n",
       "    }\n",
       "\n",
       "    .dataframe thead th {\n",
       "        text-align: right;\n",
       "    }\n",
       "</style>\n",
       "<table border=\"1\" class=\"dataframe\">\n",
       "  <thead>\n",
       "    <tr style=\"text-align: right;\">\n",
       "      <th></th>\n",
       "      <th>sentinal</th>\n",
       "      <th>cvoyd</th>\n",
       "      <th>year</th>\n",
       "      <th>month</th>\n",
       "      <th>day</th>\n",
       "      <th>rest</th>\n",
       "    </tr>\n",
       "  </thead>\n",
       "  <tbody>\n",
       "    <tr>\n",
       "      <th>0</th>\n",
       "      <td>99 0</td>\n",
       "      <td>3008501</td>\n",
       "      <td>1845</td>\n",
       "      <td>4</td>\n",
       "      <td>1</td>\n",
       "      <td>5404N 2354W                                   ...</td>\n",
       "    </tr>\n",
       "    <tr>\n",
       "      <th>1</th>\n",
       "      <td>99 0</td>\n",
       "      <td>8103481</td>\n",
       "      <td>1845</td>\n",
       "      <td>4</td>\n",
       "      <td>1</td>\n",
       "      <td>4836N 2330W                        29291      ...</td>\n",
       "    </tr>\n",
       "    <tr>\n",
       "      <th>2</th>\n",
       "      <td>99 0</td>\n",
       "      <td>3707311</td>\n",
       "      <td>1845</td>\n",
       "      <td>4</td>\n",
       "      <td>1</td>\n",
       "      <td>4643N15147W                                   ...</td>\n",
       "    </tr>\n",
       "    <tr>\n",
       "      <th>3</th>\n",
       "      <td>99 0</td>\n",
       "      <td>2605971</td>\n",
       "      <td>1845</td>\n",
       "      <td>4</td>\n",
       "      <td>1</td>\n",
       "      <td>4454N 3015W                20200W             ...</td>\n",
       "    </tr>\n",
       "    <tr>\n",
       "      <th>4</th>\n",
       "      <td>99 0</td>\n",
       "      <td>2506611</td>\n",
       "      <td>1845</td>\n",
       "      <td>4</td>\n",
       "      <td>1</td>\n",
       "      <td>4356N 2220W                                   ...</td>\n",
       "    </tr>\n",
       "  </tbody>\n",
       "</table>\n",
       "</div>"
      ],
      "text/plain": [
       "  sentinal    cvoyd  year  month  day  \\\n",
       "0     99 0  3008501  1845      4    1   \n",
       "1     99 0  8103481  1845      4    1   \n",
       "2     99 0  3707311  1845      4    1   \n",
       "3     99 0  2605971  1845      4    1   \n",
       "4     99 0  2506611  1845      4    1   \n",
       "\n",
       "                                                rest  \n",
       "0  5404N 2354W                                   ...  \n",
       "1  4836N 2330W                        29291      ...  \n",
       "2  4643N15147W                                   ...  \n",
       "3  4454N 3015W                20200W             ...  \n",
       "4  4356N 2220W                                   ...  "
      ]
     },
     "execution_count": 15,
     "metadata": {},
     "output_type": "execute_result"
    }
   ],
   "source": [
    "data_new.data[\"c99\"]"
   ]
  },
  {
   "cell_type": "markdown",
   "metadata": {},
   "source": [
    "We can also quickly verify that the original fields are parsed in the same way, here we are just verifying that the columns in the `core` section are unchanged following the changes made to the schema."
   ]
  },
  {
   "cell_type": "code",
   "execution_count": 16,
   "metadata": {},
   "outputs": [],
   "source": [
    "for c in data_new.data[\"core\"].columns:\n",
    "    assert data_new.data[\"core\"][c].equals(data_raw.data[(\"core\", c)])"
   ]
  }
 ],
 "metadata": {
  "kernelspec": {
   "display_name": "cdm_fork",
   "language": "python",
   "name": "cdm_fork"
  },
  "language_info": {
   "codemirror_mode": {
    "name": "ipython",
    "version": 3
   },
   "file_extension": ".py",
   "mimetype": "text/x-python",
   "name": "python",
   "nbconvert_exporter": "python",
   "pygments_lexer": "ipython3",
   "version": "3.12.6"
  }
 },
 "nbformat": 4,
 "nbformat_minor": 4
}
