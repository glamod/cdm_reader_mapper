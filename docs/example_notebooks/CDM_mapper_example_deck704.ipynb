{
 "cells": [
  {
   "cell_type": "markdown",
   "metadata": {},
   "source": [
    "## Mapping data from ICOADS deck 704 to the Common Data Model (CDM)\n",
    "\n",
    "Here we extract supplemental metadata from [ICOADSv3.0](https://icoads.noaa.gov/r3.html) stored in the [IMMA version 1](https://icoads.noaa.gov/e-doc/imma/R3.0-imma1.pdf) format. \n",
    "We will then map this data (including the supplemental data) to the Common Data Model (CDM) format defined in the [CDM Documentation](https://github.com/glamod/common_data_model/blob/master/cdm_latest.pdf)..\n",
    "\n",
    "The supplementary data are mapped to the CDM using the [tables](https://github.com/glamod/cdm_reader_mapper/tree/main/cdm_reader_mapper/cdm_mapper/tables/icoads/r300/d704) and [codes](https://github.com/glamod/cdm_reader_mapper/tree/main/cdm_reader_mapper/cdm_mapper/codes/icoads/r300/d704) specific to deck 704. The generic ICOADS [tables](https://github.com/glamod/cdm_reader_mapper/tree/main/cdm_reader_mapper/cdm_mapper/tables/icoads) are used to map the common ICOADS data components."
   ]
  },
  {
   "cell_type": "markdown",
   "metadata": {},
   "source": [
    "We are analysing deck: `704`, the [US Marine Meteorological Journals Collection](https://icoads.noaa.gov/usmmj.html)"
   ]
  },
  {
   "cell_type": "code",
   "execution_count": null,
   "metadata": {},
   "outputs": [],
   "source": [
    "from __future__ import annotations\n",
    "\n",
    "import pandas as pd\n",
    "\n",
    "from cdm_reader_mapper import read_mdf, test_data"
   ]
  },
  {
   "cell_type": "markdown",
   "metadata": {},
   "source": [
    "We first read the supplemental data information from the `c99` imma format for a subset of the data (e.g. 1878/10). For this we need to use the `\"icoads_r300_d704\"` schema. The convention for schema names is: `\"format_version_deck\"`\n",
    "\n",
    "* format/data model: \"icoads\"\n",
    "* version/release: \"r300\" (release 3.0.0)\n",
    "* deck: \"d704\"\n",
    "\n",
    "In this notebook we load the icoads r3.0.0 deck 704 test file to use as an example."
   ]
  },
  {
   "cell_type": "code",
   "execution_count": null,
   "metadata": {},
   "outputs": [],
   "source": [
    "schema = \"icoads_r300_d704\"\n",
    "\n",
    "data_file_path = test_data.test_icoads_r300_d704[\n",
    "    \"source\"\n",
    "]  # Load the example file from the cdm_reader_mapper test data\n",
    "data_bundle = read_mdf(data_file_path, imodel=schema)\n",
    "data_raw = data_bundle.data"
   ]
  },
  {
   "cell_type": "markdown",
   "metadata": {},
   "source": [
    "The data from the c99 column for this deck is separated in the following sub sections:\n",
    "- c99_sentinel\n",
    "- c99_journal\n",
    "- c99_voyage\n",
    "- c99_daily\n",
    "- c99_data4\n",
    "- c99_data5"
   ]
  },
  {
   "cell_type": "code",
   "execution_count": null,
   "metadata": {},
   "outputs": [],
   "source": [
    "data_raw.c99_sentinel.head()"
   ]
  },
  {
   "cell_type": "code",
   "execution_count": null,
   "metadata": {},
   "outputs": [],
   "source": [
    "pd.options.display.max_columns = None\n",
    "data_raw.c99_journal.head()"
   ]
  },
  {
   "cell_type": "code",
   "execution_count": null,
   "metadata": {},
   "outputs": [],
   "source": [
    "data_raw.c99_voyage.head()"
   ]
  },
  {
   "cell_type": "code",
   "execution_count": null,
   "metadata": {},
   "outputs": [],
   "source": [
    "data_raw.c99_daily.head()"
   ]
  },
  {
   "cell_type": "code",
   "execution_count": null,
   "metadata": {},
   "outputs": [],
   "source": [
    "data_raw.c99_data4.head()"
   ]
  },
  {
   "cell_type": "code",
   "execution_count": null,
   "metadata": {},
   "outputs": [],
   "source": [
    "data_raw.c99_data5.head()"
   ]
  },
  {
   "cell_type": "markdown",
   "metadata": {},
   "source": [
    "Now that we have separated the c99 data into the different sections, we see that this deck is composed of two types of data, which are the same:\n",
    "    \n",
    "    - c99_data4\n",
    "    - c99_data5\n",
    "    \n",
    "Both sections have the same name in variables. To map the correct section into the CDM it is necessary to impose a filter on the sections composed only of NaN data. \n",
    "The problem is that we dont know which years in the time series will have a section c99_data4 and which will have a c99_data5\n",
    "\n",
    "> Note that this solution of excluding one section, will only work for decks from which sections are exclusive: Among the sections listed in the block, only one of them appears in every report.\n"
   ]
  },
  {
   "cell_type": "markdown",
   "metadata": {},
   "source": [
    "We can now use the `\"icoads_r300_d704\"` model to map the raw data to the Common Data Model [glamod/common_data_model](https://www.github.com/glamod/common_data_model). The method function `map_model` contains all the functions for the model to convert variables to the correct units and/or specification following the [CDM Documentation](https://github.com/glamod/common_data_model/blob/master/cdm_latest.pdf).\n",
    "\n",
    "To run the data model we need three things:\n",
    "\n",
    "- raw data (the data we just read above)\n",
    "- attributes of the raw data (sections and column names)\n",
    "- the name of the model"
   ]
  },
  {
   "cell_type": "code",
   "execution_count": null,
   "metadata": {},
   "outputs": [],
   "source": [
    "cdm_tables = data_bundle.map_model()"
   ]
  },
  {
   "cell_type": "markdown",
   "metadata": {},
   "source": [
    "Now, have we succeeded in writing some of the data to the CDM format?\n",
    "\n",
    "We were looking to write the following data \n",
    "\n",
    "### Header section\n",
    "\n",
    " - Platform type and sub type\n",
    " - primary station id: original ship names\n",
    " - Longitude and Latitudes: converted from Degrees Minutes and Hemisphere to Decimal degrees\n",
    " - Location accuracy\n",
    " \n",
    " \n",
    "### Observations tables\n",
    "\n",
    "- `Observations-at`: latitude, longitude and location precision\n",
    "- `Observations-dpt`: latitude, longitude and location precision\n",
    "- `Observations-slp`: latitude, longitude and location precision\n",
    "     - z_coordinate_type: Barometer height in feet converted to m.\n",
    "     - original units: written in the CDM code format\n",
    "\n",
    "- `Observations-sst`: latitude, longitude and location precision\n",
    "- `Observations-wbt`: latitude, longitude and location precision\n",
    "- `Observations-wd`: latitude, longitude and location precision\n",
    "- `Observations-ws`: latitude, longitude and location precision\n"
   ]
  },
  {
   "cell_type": "code",
   "execution_count": null,
   "metadata": {},
   "outputs": [],
   "source": [
    "data = cdm_tables[\"header\"]\n",
    "data.head()"
   ]
  },
  {
   "cell_type": "markdown",
   "metadata": {},
   "source": [
    "We now show an example of Lat and Lon"
   ]
  },
  {
   "cell_type": "code",
   "execution_count": null,
   "metadata": {},
   "outputs": [],
   "source": [
    "data.latitude.head(), data.longitude.head()"
   ]
  },
  {
   "cell_type": "code",
   "execution_count": null,
   "metadata": {},
   "outputs": [],
   "source": [
    "data_raw.c99_daily[\n",
    "    [\n",
    "        \"lat_deg_on\",\n",
    "        \"lat_min_on\",\n",
    "        \"lat_hemis_on\",\n",
    "        \"lon_deg_of\",\n",
    "        \"lon_min_of\",\n",
    "        \"lon_hemis_of\",\n",
    "    ]\n",
    "].head()"
   ]
  },
  {
   "cell_type": "markdown",
   "metadata": {},
   "source": [
    "This has been successfully converted to Decimal degrees with the right (-) for each hemisphere. \n",
    "\n",
    "\n",
    "Now for the SLP we have other information:"
   ]
  },
  {
   "cell_type": "code",
   "execution_count": null,
   "metadata": {},
   "outputs": [],
   "source": [
    "data_raw.c99_journal[[\"baro_type\", \"baro_height\", \"baro_units\"]].head()"
   ]
  },
  {
   "cell_type": "markdown",
   "metadata": {},
   "source": [
    "Baro type original code table\n",
    "\n",
    "```\n",
    "{\n",
    "\t\"1\":\"aneroid\",\n",
    "\t\"2\":\"mercurial\"\n",
    "}\n",
    "```\n",
    "Baro units original code table. It has been left like this:\n",
    "\n",
    "```\n",
    "{\n",
    "\t\"1\":\"inches\",\n",
    "\t\"2\":\"millimeters\",\n",
    "\t\"3\":\"millibars\",\n",
    "\t\"4\":\"unable to determine\",\n",
    "\t\"5\":\"Paris inches\"\n",
    "}\n",
    "```\n",
    "\n",
    "Our CDM table will be\n",
    "```\n",
    "{\n",
    "  \"1\":1001,\n",
    "  \"2\":1002,\n",
    "  \"3\":1003,\n",
    "  \"4\":9999,\n",
    "  \"5\":1005\n",
    "}\n",
    "```\n",
    "\n",
    "9999 will be the `\"fill_value\": 9999` that indicates to the CDM-mapper that these are NaN values.\n"
   ]
  },
  {
   "cell_type": "code",
   "execution_count": null,
   "metadata": {},
   "outputs": [],
   "source": [
    "data_obs = cdm_tables[\"observations-slp\"]\n",
    "data_obs.head()"
   ]
  }
 ],
 "metadata": {
  "language_info": {
   "codemirror_mode": {
    "name": "ipython",
    "version": 3
   },
   "file_extension": ".py",
   "mimetype": "text/x-python",
   "name": "python",
   "nbconvert_exporter": "python",
   "pygments_lexer": "ipython3",
   "version": "3.12.3"
  }
 },
 "nbformat": 4,
 "nbformat_minor": 4
}
