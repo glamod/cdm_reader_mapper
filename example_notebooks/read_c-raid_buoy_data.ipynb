{
 "cells": [
  {
   "cell_type": "code",
   "execution_count": null,
   "id": "56d9b354",
   "metadata": {},
   "outputs": [],
   "source": [
    "%load_ext autoreload\n",
    "%autoreload 2"
   ]
  },
  {
   "cell_type": "code",
   "execution_count": null,
   "id": "e4260c54",
   "metadata": {},
   "outputs": [],
   "source": [
    "from __future__ import annotations\n",
    "\n",
    "from cdm_reader_mapper import mdf_reader"
   ]
  },
  {
   "cell_type": "code",
   "execution_count": null,
   "id": "5dd24f25",
   "metadata": {},
   "outputs": [],
   "source": [
    "from xarray import open_mfdataset"
   ]
  },
  {
   "cell_type": "code",
   "execution_count": null,
   "id": "1fc9e863",
   "metadata": {},
   "outputs": [],
   "source": [
    "source_1 = \"1010001.nc\"\n",
    "# source_2 = \"1010002.nc\""
   ]
  },
  {
   "cell_type": "code",
   "execution_count": null,
   "id": "031cc42b",
   "metadata": {},
   "outputs": [],
   "source": [
    "ds = open_mfdataset(source_1)\n",
    "ds"
   ]
  },
  {
   "cell_type": "code",
   "execution_count": null,
   "id": "6bb1e1aa",
   "metadata": {},
   "outputs": [],
   "source": [
    "ds_1 = mdf_reader.read(source_1, data_model=\"c_raid\")"
   ]
  },
  {
   "cell_type": "code",
   "execution_count": null,
   "id": "6d488653",
   "metadata": {},
   "outputs": [],
   "source": [
    "ds_1.data"
   ]
  },
  {
   "cell_type": "code",
   "execution_count": null,
   "id": "ff98bf60",
   "metadata": {},
   "outputs": [],
   "source": [
    "ds_1.attrs"
   ]
  },
  {
   "cell_type": "code",
   "execution_count": null,
   "id": "35479bb5",
   "metadata": {},
   "outputs": [],
   "source": [
    "ds_1.dtypes"
   ]
  },
  {
   "cell_type": "code",
   "execution_count": null,
   "id": "7524bc2d",
   "metadata": {},
   "outputs": [],
   "source": [
    "ds_1.mask"
   ]
  }
 ],
 "metadata": {
  "language_info": {
   "codemirror_mode": {
    "name": "ipython",
    "version": 3
   },
   "file_extension": ".py",
   "mimetype": "text/x-python",
   "name": "python",
   "nbconvert_exporter": "python",
   "pygments_lexer": "ipython3",
   "version": "3.11.5"
  }
 },
 "nbformat": 4,
 "nbformat_minor": 5
}
